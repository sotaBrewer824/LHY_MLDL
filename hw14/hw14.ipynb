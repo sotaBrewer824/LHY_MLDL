{
  "cells": [
    {
      "cell_type": "markdown",
      "metadata": {
        "id": "AsmmE9T_WFbD"
      },
      "source": [
        "\n",
        "\n",
        "# LifeLong Machine Learning\n",
        "\n"
      ]
    },
    {
      "cell_type": "markdown",
      "metadata": {
        "id": "BK862tXGWFbE"
      },
      "source": [
        "# Utilities"
      ]
    },
    {
      "cell_type": "markdown",
      "metadata": {
        "id": "Q3qCa3AyWFbE"
      },
      "source": [
        "### Import Libraries"
      ]
    },
    {
      "cell_type": "code",
      "execution_count": 1,
      "metadata": {
        "id": "R2TZ4-_yWFbF"
      },
      "outputs": [],
      "source": [
        "import argparse\n",
        "import matplotlib.pyplot as plt\n",
        "import numpy as np\n",
        "import os\n",
        "import torch\n",
        "import torch.utils.data as data\n",
        "from torch.utils.data import DataLoader\n",
        "import torch.utils.data.sampler as sampler\n",
        "import torch.nn as nn\n",
        "import torch.nn.functional as F\n",
        "import torchvision\n",
        "from torchvision import datasets, transforms\n",
        "import tqdm\n",
        "from tqdm import trange"
      ]
    },
    {
      "cell_type": "markdown",
      "metadata": {
        "id": "gg3_4IbVWFbF"
      },
      "source": [
        "### Check devices"
      ]
    },
    {
      "cell_type": "code",
      "execution_count": 2,
      "metadata": {
        "colab": {
          "base_uri": "https://localhost:8080/"
        },
        "id": "OivaUp0oWFbF",
        "outputId": "d23679ec-34f9-491e-ec2f-4e8054846504"
      },
      "outputs": [
        {
          "name": "stdout",
          "output_type": "stream",
          "text": [
            "cuda\n"
          ]
        }
      ],
      "source": [
        "if torch.cuda.is_available:\n",
        "  device = \"cuda\"\n",
        "else:\n",
        "  device = \"cpu\"\n",
        "print(device)"
      ]
    },
    {
      "cell_type": "code",
      "execution_count": 3,
      "metadata": {
        "colab": {
          "base_uri": "https://localhost:8080/"
        },
        "id": "b4ENjIptQ6zB",
        "outputId": "b14e2b7f-9f42-4f73-e759-f476fae83ee5"
      },
      "outputs": [
        {
          "name": "stdout",
          "output_type": "stream",
          "text": [
            "Tue Feb  6 11:54:29 2024       \n",
            "+---------------------------------------------------------------------------------------+\n",
            "| NVIDIA-SMI 535.104.05             Driver Version: 535.104.05   CUDA Version: 12.2     |\n",
            "|-----------------------------------------+----------------------+----------------------+\n",
            "| GPU  Name                 Persistence-M | Bus-Id        Disp.A | Volatile Uncorr. ECC |\n",
            "| Fan  Temp   Perf          Pwr:Usage/Cap |         Memory-Usage | GPU-Util  Compute M. |\n",
            "|                                         |                      |               MIG M. |\n",
            "|=========================================+======================+======================|\n",
            "|   0  Tesla T4                       Off | 00000000:00:04.0 Off |                    0 |\n",
            "| N/A   40C    P8               9W /  70W |      0MiB / 15360MiB |      0%      Default |\n",
            "|                                         |                      |                  N/A |\n",
            "+-----------------------------------------+----------------------+----------------------+\n",
            "                                                                                         \n",
            "+---------------------------------------------------------------------------------------+\n",
            "| Processes:                                                                            |\n",
            "|  GPU   GI   CI        PID   Type   Process name                            GPU Memory |\n",
            "|        ID   ID                                                             Usage      |\n",
            "|=======================================================================================|\n",
            "|  No running processes found                                                           |\n",
            "+---------------------------------------------------------------------------------------+\n"
          ]
        }
      ],
      "source": [
        "!nvidia-smi"
      ]
    },
    {
      "cell_type": "markdown",
      "metadata": {
        "id": "yUJ74uBEWFbG"
      },
      "source": [
        "### Fix Random Seeds"
      ]
    },
    {
      "cell_type": "code",
      "execution_count": 4,
      "metadata": {
        "id": "wD5LIZarWFbG"
      },
      "outputs": [],
      "source": [
        "def same_seeds(seed):\n",
        "  torch.manual_seed(seed)\n",
        "  if torch.cuda.is_available():\n",
        "    torch.cuda.manual_seed(seed)\n",
        "    torch.cuda.manual_seed_all(seed)\n",
        "  np.random.seed(seed)\n",
        "  torch.backends.cudnn.benchmark = False\n",
        "  torch.backends.cudnn.deterministic = True\n",
        "\n",
        "same_seeds(0)"
      ]
    },
    {
      "cell_type": "markdown",
      "metadata": {
        "id": "jF1t8-4kWFbG"
      },
      "source": [
        "# Prepare Data\n",
        "We utilize rotated MNIST as our training dataset.\n",
        "\n",
        "So, first, we utilize 5 different rotations to generate 10 different rotated MNISTs as different tasks."
      ]
    },
    {
      "cell_type": "markdown",
      "metadata": {
        "id": "RQUE7ZCEWFbG"
      },
      "source": [
        "### Rotation and Transformation"
      ]
    },
    {
      "cell_type": "code",
      "execution_count": 5,
      "metadata": {
        "id": "YuG2jkeEWFbG"
      },
      "outputs": [],
      "source": [
        "# Rotate MNIST to generate 10 tasks\n",
        "\n",
        "def _rotate_image(image, angle):\n",
        "  if angle is None:\n",
        "    return image\n",
        "\n",
        "  image = transforms.functional.rotate(image, angle=angle)\n",
        "  return image\n",
        "\n",
        "def get_transform(angle=None):\n",
        "  transform = transforms.Compose([transforms.ToTensor(),\n",
        "                   transforms.Lambda(lambda x: _rotate_image(x, angle)),\n",
        "                   Pad(28)\n",
        "                   ])\n",
        "  return transform\n",
        "\n",
        "class Pad(object):\n",
        "  def __init__(self, size, fill=0, padding_mode='constant'):\n",
        "    self.size = size\n",
        "    self.fill = fill\n",
        "    self.padding_mode = padding_mode\n",
        "\n",
        "  def __call__(self, img):\n",
        "    # If the H and W of img is not equal to desired size,\n",
        "    # then pad the channel of img to desired size.\n",
        "    img_size = img.size()[1]\n",
        "    assert ((self.size - img_size) % 2 == 0)\n",
        "    padding = (self.size - img_size) // 2\n",
        "    padding = (padding, padding, padding, padding)\n",
        "    return F.pad(img, padding, self.padding_mode, self.fill)\n",
        "\n",
        "class Data():\n",
        "  def __init__(self, path, train=True, angle=None):\n",
        "    transform = get_transform(angle)\n",
        "    self.dataset = datasets.MNIST(root=os.path.join(path, \"MNIST\"), transform=transform, train=train, download=True)"
      ]
    },
    {
      "cell_type": "markdown",
      "metadata": {
        "id": "KG8GcENLWFbH"
      },
      "source": [
        "### Dataloaders and Arguments\n",
        "- Training Arguments\n",
        "- Setup 5 different Rotations\n",
        "- 5 Train DataLoader\n",
        "- 5 Test DataLoader"
      ]
    },
    {
      "cell_type": "code",
      "execution_count": 6,
      "metadata": {
        "colab": {
          "base_uri": "https://localhost:8080/"
        },
        "id": "jDo1m4EIWFbH",
        "outputId": "063d4a4b-496f-46aa-888d-e077edbc378a"
      },
      "outputs": [
        {
          "name": "stdout",
          "output_type": "stream",
          "text": [
            "Downloading http://yann.lecun.com/exdb/mnist/train-images-idx3-ubyte.gz\n",
            "Downloading http://yann.lecun.com/exdb/mnist/train-images-idx3-ubyte.gz to data/MNIST/MNIST/raw/train-images-idx3-ubyte.gz\n"
          ]
        },
        {
          "name": "stderr",
          "output_type": "stream",
          "text": [
            "100%|██████████| 9912422/9912422 [00:00<00:00, 174286563.90it/s]"
          ]
        },
        {
          "name": "stdout",
          "output_type": "stream",
          "text": [
            "Extracting data/MNIST/MNIST/raw/train-images-idx3-ubyte.gz to data/MNIST/MNIST/raw\n"
          ]
        },
        {
          "name": "stderr",
          "output_type": "stream",
          "text": [
            "\n"
          ]
        },
        {
          "name": "stdout",
          "output_type": "stream",
          "text": [
            "\n",
            "Downloading http://yann.lecun.com/exdb/mnist/train-labels-idx1-ubyte.gz\n",
            "Downloading http://yann.lecun.com/exdb/mnist/train-labels-idx1-ubyte.gz to data/MNIST/MNIST/raw/train-labels-idx1-ubyte.gz\n"
          ]
        },
        {
          "name": "stderr",
          "output_type": "stream",
          "text": [
            "100%|██████████| 28881/28881 [00:00<00:00, 39317005.46it/s]\n"
          ]
        },
        {
          "name": "stdout",
          "output_type": "stream",
          "text": [
            "Extracting data/MNIST/MNIST/raw/train-labels-idx1-ubyte.gz to data/MNIST/MNIST/raw\n",
            "\n",
            "Downloading http://yann.lecun.com/exdb/mnist/t10k-images-idx3-ubyte.gz\n",
            "Downloading http://yann.lecun.com/exdb/mnist/t10k-images-idx3-ubyte.gz to data/MNIST/MNIST/raw/t10k-images-idx3-ubyte.gz\n"
          ]
        },
        {
          "name": "stderr",
          "output_type": "stream",
          "text": [
            "100%|██████████| 1648877/1648877 [00:00<00:00, 48148732.88it/s]"
          ]
        },
        {
          "name": "stdout",
          "output_type": "stream",
          "text": [
            "Extracting data/MNIST/MNIST/raw/t10k-images-idx3-ubyte.gz to data/MNIST/MNIST/raw\n"
          ]
        },
        {
          "name": "stderr",
          "output_type": "stream",
          "text": [
            "\n"
          ]
        },
        {
          "name": "stdout",
          "output_type": "stream",
          "text": [
            "\n",
            "Downloading http://yann.lecun.com/exdb/mnist/t10k-labels-idx1-ubyte.gz\n",
            "Downloading http://yann.lecun.com/exdb/mnist/t10k-labels-idx1-ubyte.gz to data/MNIST/MNIST/raw/t10k-labels-idx1-ubyte.gz\n"
          ]
        },
        {
          "name": "stderr",
          "output_type": "stream",
          "text": [
            "100%|██████████| 4542/4542 [00:00<00:00, 3534420.92it/s]\n"
          ]
        },
        {
          "name": "stdout",
          "output_type": "stream",
          "text": [
            "Extracting data/MNIST/MNIST/raw/t10k-labels-idx1-ubyte.gz to data/MNIST/MNIST/raw\n",
            "\n"
          ]
        }
      ],
      "source": [
        "class Args:\n",
        "  task_number = 5\n",
        "  epochs_per_task = 10\n",
        "  lr = 1.0e-4\n",
        "  batch_size = 128\n",
        "  test_size=8192\n",
        "\n",
        "args=Args()\n",
        "\n",
        "device = torch.device(\"cuda\" if torch.cuda.is_available() else \"cpu\")\n",
        "# generate rotations for the tasks.\n",
        "\n",
        "# generate rotated MNIST data from 10 different rotations.\n",
        "\n",
        "angle_list = [20 * x for x in range(args.task_number)]\n",
        "\n",
        "# prepare rotated MNIST datasets.\n",
        "\n",
        "train_datasets = [Data('data', angle=angle_list[index]) for index in range(args.task_number)]\n",
        "train_dataloaders = [DataLoader(data.dataset, batch_size=args.batch_size, shuffle=True) for data in train_datasets]\n",
        "\n",
        "test_datasets = [Data('data', train=False, angle=angle_list[index]) for index in range(args.task_number)]\n",
        "test_dataloaders = [DataLoader(data.dataset, batch_size=args.test_size, shuffle=True) for data in test_datasets]"
      ]
    },
    {
      "cell_type": "markdown",
      "metadata": {
        "id": "44eTPTSrWFbH"
      },
      "source": [
        "### Visualization"
      ]
    },
    {
      "cell_type": "code",
      "execution_count": 7,
      "metadata": {
        "colab": {
          "base_uri": "https://localhost:8080/",
          "height": 480
        },
        "id": "H_JGabIFWFbH",
        "outputId": "b6be2978-93cd-46c9-e826-9356858fdeb6"
      },
      "outputs": [
        {
          "data": {
            "image/png": "[encoded data removed]",
            "text/plain": [
              "<Figure size 3000x1000 with 50 Axes>"
            ]
          },
          "metadata": {},
          "output_type": "display_data"
        }
      ],
      "source": [
        "# Visualize label 0-9 1 sample MNIST picture in 5 tasks.\n",
        "sample = [Data('data', angle=angle_list[index]) for index in range(args.task_number)]\n",
        "\n",
        "plt.figure(figsize=(30, 10))\n",
        "for task in range(5):\n",
        "  target_list = []\n",
        "  cnt = 0\n",
        "  while (len(target_list) < 10):\n",
        "    img, target = sample[task].dataset[cnt]\n",
        "    cnt += 1\n",
        "    if target in target_list:\n",
        "      continue\n",
        "    else:\n",
        "      target_list.append(target)\n",
        "    plt.subplot(5, 10, (task)*10 + target + 1)\n",
        "    curr_img = np.reshape(img, (28, 28))\n",
        "    plt.matshow(curr_img, cmap=plt.get_cmap('gray'), fignum=False)\n",
        "    ax = plt.gca()\n",
        "    ax.axes.xaxis.set_ticks([])\n",
        "    ax.axes.yaxis.set_ticks([])\n",
        "    plt.title(\"task: \" + str(task+1) + \" \" + \"label: \" + str(target), y=1)"
      ]
    },
    {
      "cell_type": "markdown",
      "metadata": {
        "id": "4yn5L2iuWFbH"
      },
      "source": [
        "# Prepare Model"
      ]
    },
    {
      "cell_type": "markdown",
      "metadata": {
        "id": "TyT-BW1zWFbI"
      },
      "source": [
        "### Model Architecture\n",
        "To fair comparison,\n",
        "\n",
        "We fix our model architecture to do this homework.\n",
        "\n",
        "The model architecture consists of 4 layers fully-connected network."
      ]
    },
    {
      "cell_type": "code",
      "execution_count": 8,
      "metadata": {
        "colab": {
          "base_uri": "https://localhost:8080/"
        },
        "id": "PHK0IJofWFbI",
        "outputId": "d5bbbd86-438c-4cd0-b684-227c20fc15a1"
      },
      "outputs": [
        {
          "name": "stdout",
          "output_type": "stream",
          "text": [
            "Model(\n",
            "  (fc1): Linear(in_features=784, out_features=1024, bias=True)\n",
            "  (fc2): Linear(in_features=1024, out_features=512, bias=True)\n",
            "  (fc3): Linear(in_features=512, out_features=256, bias=True)\n",
            "  (fc4): Linear(in_features=256, out_features=10, bias=True)\n",
            "  (relu): ReLU()\n",
            ")\n"
          ]
        }
      ],
      "source": [
        "class Model(nn.Module):\n",
        "  \"\"\"\n",
        "  Model architecture\n",
        "  1*28*28 (input) → 1024 → 512 → 256 → 10\n",
        "  \"\"\"\n",
        "  def __init__(self):\n",
        "    super(Model, self).__init__()\n",
        "    self.fc1 = nn.Linear(1*28*28, 1024)\n",
        "    self.fc2 = nn.Linear(1024, 512)\n",
        "    self.fc3 = nn.Linear(512, 256)\n",
        "    self.fc4 = nn.Linear(256, 10)\n",
        "    self.relu = nn.ReLU()\n",
        "\n",
        "  def forward(self, x):\n",
        "    x = x.view(-1, 1*28*28)\n",
        "    x = self.fc1(x)\n",
        "    x = self.relu(x)\n",
        "    x = self.fc2(x)\n",
        "    x = self.relu(x)\n",
        "    x = self.fc3(x)\n",
        "    x = self.relu(x)\n",
        "    x = self.fc4(x)\n",
        "    return x\n",
        "\n",
        "example = Model()\n",
        "print(example)"
      ]
    },
    {
      "cell_type": "markdown",
      "metadata": {
        "id": "6tTBIThnWFbI"
      },
      "source": [
        "# Train and Evaluate"
      ]
    },
    {
      "cell_type": "markdown",
      "metadata": {
        "id": "cQI3OGfgWFbI"
      },
      "source": [
        "### Train\n",
        "This is our function of training.\n",
        "\n",
        "It can generally be applied in different regularization-based lifelong learning algorithms in this homework."
      ]
    },
    {
      "cell_type": "code",
      "execution_count": 9,
      "metadata": {
        "id": "MQLGpyqnWFbJ"
      },
      "outputs": [],
      "source": [
        "def train(model, optimizer, dataloader, epochs_per_task, lll_object, lll_lambda, test_dataloaders, evaluate, device, log_step=1):\n",
        "  model.train()\n",
        "  model.zero_grad()\n",
        "  objective = nn.CrossEntropyLoss()\n",
        "  acc_per_epoch = []\n",
        "  loss = 1.0\n",
        "  bar = trange(epochs_per_task, leave=False, desc=f\"Epoch 1, Loss: {loss:.7f}\")\n",
        "  for epoch in bar:\n",
        "    for imgs, labels in dataloader:\n",
        "      imgs, labels = imgs.to(device), labels.to(device)\n",
        "      outputs = model(imgs)\n",
        "      loss = objective(outputs, labels)\n",
        "      total_loss = loss\n",
        "      lll_loss = lll_object.penalty(model)\n",
        "      total_loss += lll_lambda * lll_loss\n",
        "      lll_object.update(model)\n",
        "      optimizer.zero_grad()\n",
        "      total_loss.backward()\n",
        "      optimizer.step()\n",
        "\n",
        "      loss = total_loss.item()\n",
        "    acc_average  = []\n",
        "    for test_dataloader in test_dataloaders:\n",
        "      acc_test = evaluate(model, test_dataloader, device)\n",
        "      acc_average.append(acc_test)\n",
        "    average=np.mean(np.array(acc_average))\n",
        "    acc_per_epoch.append(average*100.0)\n",
        "\n",
        "  return model, optimizer, acc_per_epoch"
      ]
    },
    {
      "cell_type": "markdown",
      "metadata": {
        "id": "UN-V_Rq3WFbJ"
      },
      "source": [
        "### Evaluate\n",
        "This is our function of evaluation.\n",
        "\n",
        "It can generally be applied in different regularization-based lifelong learning algorithms in this homework.\n"
      ]
    },
    {
      "cell_type": "code",
      "execution_count": 10,
      "metadata": {
        "id": "AgUG7ZC3WFbJ"
      },
      "outputs": [],
      "source": [
        "def evaluate(model, test_dataloader, device):\n",
        "    model.eval()\n",
        "    correct_cnt = 0\n",
        "    total = 0\n",
        "    for imgs, labels in test_dataloader:\n",
        "        imgs, labels = imgs.to(device), labels.to(device)\n",
        "        outputs = model(imgs)\n",
        "        _, pred_label = torch.max(outputs.data, 1)\n",
        "\n",
        "        correct_cnt += (pred_label == labels.data).sum().item()\n",
        "        total += torch.ones_like(labels.data).sum().item()\n",
        "    return correct_cnt / total"
      ]
    },
    {
      "cell_type": "markdown",
      "metadata": {
        "id": "-6MG7AXmWFbJ"
      },
      "source": [
        "# Methods\n",
        "- Baseline\n",
        "- EWC\n",
        "- SI\n",
        "- MAS\n",
        "- RWalk\n",
        "- SCP"
      ]
    },
    {
      "cell_type": "markdown",
      "metadata": {
        "id": "NqEKECBKWFbK"
      },
      "source": [
        "### Baseline\n",
        "The baseline class will do nothing in the regularization term."
      ]
    },
    {
      "cell_type": "code",
      "execution_count": 11,
      "metadata": {
        "id": "hi0rxYWPWFbK"
      },
      "outputs": [],
      "source": [
        "# Baseline\n",
        "class baseline(object):\n",
        "  \"\"\"\n",
        "  baseline technique: do nothing in regularization term [initialize and all weight is zero]\n",
        "  \"\"\"\n",
        "  def __init__(self, model, dataloader, device):\n",
        "    self.model = model\n",
        "    self.dataloader = dataloader\n",
        "    self.device = device\n",
        "    # extract all parameters in models\n",
        "    self.params = {n: p for n, p in self.model.named_parameters() if p.requires_grad}\n",
        "\n",
        "    # store current parameters\n",
        "    self.p_old = {}\n",
        "\n",
        "    # generate weight matrix\n",
        "    self._precision_matrices = self._calculate_importance()\n",
        "\n",
        "    for n, p in self.params.items():\n",
        "      # keep the old parameter in self.p_old\n",
        "      self.p_old[n] = p.clone().detach()\n",
        "\n",
        "  def _calculate_importance(self):\n",
        "    precision_matrices = {}\n",
        "    # initialize weight matrix（fill zero）\n",
        "    for n, p in self.params.items():\n",
        "      precision_matrices[n] = p.clone().detach().fill_(0)\n",
        "\n",
        "    return precision_matrices\n",
        "\n",
        "  def penalty(self, model: nn.Module):\n",
        "    loss = 0\n",
        "    for n, p in model.named_parameters():\n",
        "      _loss = self._precision_matrices[n] * (p - self.p_old[n]) ** 2\n",
        "      loss += _loss.sum()\n",
        "    return loss\n",
        "\n",
        "  def update(self, model):\n",
        "    # do nothing\n",
        "    return"
      ]
    },
    {
      "cell_type": "code",
      "execution_count": 12,
      "metadata": {
        "colab": {
          "base_uri": "https://localhost:8080/"
        },
        "id": "N47ycrp3WFbK",
        "outputId": "3c0cbdf0-9725-4aeb-e0ea-9d98d8a8f1f1"
      },
      "outputs": [
        {
          "name": "stdout",
          "output_type": "stream",
          "text": [
            "RUN BASELINE\n"
          ]
        },
        {
          "name": "stderr",
          "output_type": "stream",
          "text": [
            "Task   1:   0%|          | 0/5 [00:00<?, ?it/s]\n",
            "Epoch 1, Loss: 1.0000000:   0%|          | 0/10 [00:00<?, ?it/s]\u001b[A\n",
            "Epoch 1, Loss: 1.0000000:  10%|█         | 1/10 [00:31<04:45, 31.71s/it]\u001b[A\n",
            "Epoch 1, Loss: 1.0000000:  20%|██        | 2/10 [01:03<04:14, 31.81s/it]\u001b[A\n",
            "Epoch 1, Loss: 1.0000000:  30%|███       | 3/10 [01:34<03:38, 31.22s/it]\u001b[A\n",
            "Epoch 1, Loss: 1.0000000:  40%|████      | 4/10 [02:05<03:07, 31.21s/it]\u001b[A\n",
            "Epoch 1, Loss: 1.0000000:  50%|█████     | 5/10 [02:36<02:35, 31.04s/it]\u001b[A\n",
            "Epoch 1, Loss: 1.0000000:  60%|██████    | 6/10 [03:06<02:03, 30.95s/it]\u001b[A\n",
            "Epoch 1, Loss: 1.0000000:  70%|███████   | 7/10 [03:39<01:34, 31.38s/it]\u001b[A\n",
            "Epoch 1, Loss: 1.0000000:  80%|████████  | 8/10 [04:10<01:03, 31.55s/it]\u001b[A\n",
            "Epoch 1, Loss: 1.0000000:  90%|█████████ | 9/10 [04:43<00:31, 31.75s/it]\u001b[A\n",
            "Epoch 1, Loss: 1.0000000: 100%|██████████| 10/10 [05:13<00:00, 31.43s/it]\u001b[A\n",
            "Task   2:  20%|██        | 1/5 [05:13<20:55, 313.91s/it]\n",
            "Epoch 1, Loss: 1.0000000:   0%|          | 0/10 [00:00<?, ?it/s]\u001b[A\n",
            "Epoch 1, Loss: 1.0000000:  10%|█         | 1/10 [00:37<05:34, 37.19s/it]\u001b[A\n",
            "Epoch 1, Loss: 1.0000000:  20%|██        | 2/10 [01:11<04:45, 35.71s/it]\u001b[A\n",
            "Epoch 1, Loss: 1.0000000:  30%|███       | 3/10 [01:48<04:11, 35.93s/it]\u001b[A\n",
            "Epoch 1, Loss: 1.0000000:  40%|████      | 4/10 [02:23<03:34, 35.78s/it]\u001b[A\n",
            "Epoch 1, Loss: 1.0000000:  50%|█████     | 5/10 [03:01<03:02, 36.49s/it]\u001b[A\n",
            "Epoch 1, Loss: 1.0000000:  60%|██████    | 6/10 [03:39<02:28, 37.01s/it]\u001b[A\n",
            "Epoch 1, Loss: 1.0000000:  70%|███████   | 7/10 [04:16<01:51, 37.15s/it]\u001b[A\n",
            "Epoch 1, Loss: 1.0000000:  80%|████████  | 8/10 [04:53<01:13, 36.92s/it]\u001b[A\n",
            "Epoch 1, Loss: 1.0000000:  90%|█████████ | 9/10 [05:29<00:36, 36.85s/it]\u001b[A\n",
            "Epoch 1, Loss: 1.0000000: 100%|██████████| 10/10 [06:13<00:00, 38.88s/it]\u001b[A\n",
            "Task   3:  40%|████      | 2/5 [11:27<17:26, 348.89s/it]\n",
            "Epoch 1, Loss: 1.0000000:   0%|          | 0/10 [00:00<?, ?it/s]\u001b[A\n",
            "Epoch 1, Loss: 1.0000000:  10%|█         | 1/10 [00:55<08:15, 55.05s/it]\u001b[A\n",
            "Epoch 1, Loss: 1.0000000:  20%|██        | 2/10 [01:41<06:41, 50.14s/it]\u001b[A\n",
            "Epoch 1, Loss: 1.0000000:  30%|███       | 3/10 [02:26<05:32, 47.49s/it]\u001b[A\n",
            "Epoch 1, Loss: 1.0000000:  40%|████      | 4/10 [03:06<04:27, 44.53s/it]\u001b[A\n",
            "Epoch 1, Loss: 1.0000000:  50%|█████     | 5/10 [03:46<03:34, 42.98s/it]\u001b[A\n",
            "Epoch 1, Loss: 1.0000000:  60%|██████    | 6/10 [04:26<02:48, 42.13s/it]\u001b[A\n",
            "Epoch 1, Loss: 1.0000000:  70%|███████   | 7/10 [05:06<02:04, 41.48s/it]\u001b[A\n",
            "Epoch 1, Loss: 1.0000000:  80%|████████  | 8/10 [05:46<01:21, 40.95s/it]\u001b[A\n",
            "Epoch 1, Loss: 1.0000000:  90%|█████████ | 9/10 [06:25<00:40, 40.29s/it]\u001b[A\n",
            "Epoch 1, Loss: 1.0000000: 100%|██████████| 10/10 [07:04<00:00, 39.85s/it]\u001b[A\n",
            "Task   4:  60%|██████    | 3/5 [18:31<12:46, 383.40s/it]\n",
            "Epoch 1, Loss: 1.0000000:   0%|          | 0/10 [00:00<?, ?it/s]\u001b[A\n",
            "Epoch 1, Loss: 1.0000000:  10%|█         | 1/10 [00:43<06:34, 43.83s/it]\u001b[A\n",
            "Epoch 1, Loss: 1.0000000:  20%|██        | 2/10 [01:27<05:50, 43.81s/it]\u001b[A\n",
            "Epoch 1, Loss: 1.0000000:  30%|███       | 3/10 [02:13<05:12, 44.67s/it]\u001b[A\n",
            "Epoch 1, Loss: 1.0000000:  40%|████      | 4/10 [02:57<04:26, 44.50s/it]\u001b[A\n",
            "Epoch 1, Loss: 1.0000000:  50%|█████     | 5/10 [03:41<03:40, 44.17s/it]\u001b[A\n",
            "Epoch 1, Loss: 1.0000000:  60%|██████    | 6/10 [04:24<02:55, 43.91s/it]\u001b[A\n",
            "Epoch 1, Loss: 1.0000000:  70%|███████   | 7/10 [05:07<02:11, 43.69s/it]\u001b[A\n",
            "Epoch 1, Loss: 1.0000000:  80%|████████  | 8/10 [05:51<01:27, 43.64s/it]\u001b[A\n",
            "Epoch 1, Loss: 1.0000000:  90%|█████████ | 9/10 [06:34<00:43, 43.37s/it]\u001b[A\n",
            "Epoch 1, Loss: 1.0000000: 100%|██████████| 10/10 [07:17<00:00, 43.52s/it]\u001b[A\n",
            "Task   5:  80%|████████  | 4/5 [25:49<06:44, 404.94s/it]\n",
            "Epoch 1, Loss: 1.0000000:   0%|          | 0/10 [00:00<?, ?it/s]\u001b[A\n",
            "Epoch 1, Loss: 1.0000000:  10%|█         | 1/10 [00:47<07:09, 47.75s/it]\u001b[A\n",
            "Epoch 1, Loss: 1.0000000:  20%|██        | 2/10 [01:35<06:21, 47.68s/it]\u001b[A\n",
            "Epoch 1, Loss: 1.0000000:  30%|███       | 3/10 [02:23<05:34, 47.85s/it]\u001b[A\n",
            "Epoch 1, Loss: 1.0000000:  40%|████      | 4/10 [03:10<04:46, 47.67s/it]\u001b[A\n",
            "Epoch 1, Loss: 1.0000000:  50%|█████     | 5/10 [03:58<03:58, 47.70s/it]\u001b[A\n",
            "Epoch 1, Loss: 1.0000000:  60%|██████    | 6/10 [04:46<03:10, 47.70s/it]\u001b[A\n",
            "Epoch 1, Loss: 1.0000000:  70%|███████   | 7/10 [05:34<02:23, 47.94s/it]\u001b[A\n",
            "Epoch 1, Loss: 1.0000000:  80%|████████  | 8/10 [06:22<01:35, 47.87s/it]\u001b[A\n",
            "Epoch 1, Loss: 1.0000000:  90%|█████████ | 9/10 [07:10<00:47, 47.82s/it]\u001b[A\n",
            "Epoch 1, Loss: 1.0000000: 100%|██████████| 10/10 [07:58<00:00, 47.88s/it]\u001b[A\n",
            "Task   6: 100%|██████████| 5/5 [33:47<00:00, 405.59s/it]"
          ]
        },
        {
          "name": "stdout",
          "output_type": "stream",
          "text": [
            "[92.64, 94.46, 95.69, 96.47, 96.66, 97.08, 97.53, 97.57000000000001, 97.48, 97.88, 95.61, 95.705, 95.575, 95.675, 95.46, 94.97, 94.77499999999999, 95.42500000000001, 95.39, 95.24000000000001, 91.15333333333334, 90.59333333333333, 90.24, 89.35333333333334, 89.19, 87.19999999999999, 88.83333333333333, 87.63333333333333, 88.33666666666667, 87.97666666666667, 82.83500000000001, 80.7, 80.825, 80.0475, 79.6575, 79.45, 80.7525, 79.93249999999999, 79.0125, 78.45499999999998, 75.288, 73.92800000000001, 74.084, 72.55, 72.504, 71.17599999999999, 72.556, 71.49799999999999, 71.012, 69.904]\n",
            "==================================================================================================\n"
          ]
        },
        {
          "name": "stderr",
          "output_type": "stream",
          "text": [
            "\n"
          ]
        }
      ],
      "source": [
        "# Baseline\n",
        "print(\"RUN BASELINE\")\n",
        "model = Model()\n",
        "model = model.to(device)\n",
        "optimizer = torch.optim.Adam(model.parameters(), lr=args.lr)\n",
        "\n",
        "# initialize lifelong learning object (baseline class) without adding any regularization term.\n",
        "lll_object=baseline(model=model, dataloader=None, device=device)\n",
        "lll_lambda=0.0\n",
        "baseline_acc=[]\n",
        "task_bar = trange(len(train_dataloaders),desc=\"Task   1\")\n",
        "\n",
        "# iterate training on each task continually.\n",
        "for train_indexes in task_bar:\n",
        "  # Train each task\n",
        "  model, _, acc_list = train(model, optimizer, train_dataloaders[train_indexes], args.epochs_per_task,\n",
        "                  lll_object, lll_lambda, evaluate=evaluate,device=device, test_dataloaders=test_dataloaders[:train_indexes+1])\n",
        "\n",
        "  # get model weight to baseline class and do nothing!\n",
        "  lll_object=baseline(model=model, dataloader=train_dataloaders[train_indexes],device=device)\n",
        "\n",
        "  # new a optimizer\n",
        "  optimizer = torch.optim.Adam(model.parameters(), lr=args.lr)\n",
        "\n",
        "  # Collect average accuracy in each epoch\n",
        "  baseline_acc.extend(acc_list)\n",
        "\n",
        "  # display the information of the next task.\n",
        "  task_bar.set_description_str(f\"Task  {train_indexes+2:2}\")\n",
        "\n",
        "# average accuracy in each task per epoch!\n",
        "print(baseline_acc)\n",
        "print(\"==================================================================================================\")"
      ]
    },
    {
      "cell_type": "markdown",
      "metadata": {
        "id": "AD1sHoBcWFbK"
      },
      "source": [
        "### EWC\n",
        "\n",
        "Elastic Weight Consolidation\n",
        "\n",
        "The ewc class applied EWC algorithm to calculate the regularization term. The central concept is included in Prof.Hung-yi's lectures. Here we will focus on the algorithm of EWC.\n",
        "\n",
        "In this assignment, we want to let our model learn 10 tasks successively. Here we show a simple example that lets the model learn 2 tasks(task A and task B) successively.\n",
        "\n",
        "In the EWC algorithm, the definition of the loss function is shown below:\n",
        " $$\\mathcal{L}_B = \\mathcal{L}(\\theta) + \\sum_{i} \\frac{\\lambda}{2} F_i (\\theta_{i} - \\theta_{A,i}^{*})^2  $$\n",
        "  \n",
        "Assume we have a neural network with more than two parameters.\n",
        "\n",
        "$F_i$ corresponds to the $i^{th}$ guard in Prof. Hung-yi's lecture. Please do not modify this parameter, because it's important to task A.\n",
        "\n",
        "The definition of $F$ is shown below.\n",
        "$$ F = [ \\nabla \\log(p(y_n | x_n, \\theta_{A}^{*})) \\nabla \\log(p(y_n | x_n, \\theta_{A}^{*}))^T ] $$\n",
        "\n",
        "We only take the diagonal value of the matrix to approximate each parameter's $F_i$.\n",
        "\n",
        "The detail information and derivation are shown in 2.4.1 and 2.4 of [Continual Learning in Neural\n",
        "Networks](https://arxiv.org/pdf/1910.02718.pdf)\n",
        "\n",
        "For You Information: [Elastic Weight Consolidation](https://arxiv.org/pdf/1612.00796.pdf)"
      ]
    },
    {
      "cell_type": "code",
      "execution_count": 13,
      "metadata": {
        "id": "qy-ZmOFuWFbL"
      },
      "outputs": [],
      "source": [
        "# EWC\n",
        "class ewc(object):\n",
        "  \"\"\"\n",
        "  @article{kirkpatrick2017overcoming,\n",
        "      title={Overcoming catastrophic forgetting in neural networks},\n",
        "      author={Kirkpatrick, James and Pascanu, Razvan and Rabinowitz, Neil and Veness, Joel and Desjardins, Guillaume and Rusu, Andrei A and Milan, Kieran and Quan, John and Ramalho, Tiago and Grabska-Barwinska, Agnieszka and others},\n",
        "      journal={Proceedings of the national academy of sciences},\n",
        "      year={2017},\n",
        "      url={https://arxiv.org/abs/1612.00796}\n",
        "  }\n",
        "  \"\"\"\n",
        "  def __init__(self, model, dataloader, device, prev_guards=[None]):\n",
        "    self.model = model\n",
        "    self.dataloader = dataloader\n",
        "    self.device = device\n",
        "    # extract all parameters in models\n",
        "    self.params = {n: p for n, p in self.model.named_parameters() if p.requires_grad}\n",
        "\n",
        "    # initialize parameters\n",
        "    self.p_old = {}\n",
        "    # save previous guards\n",
        "    self.previous_guards_list = prev_guards\n",
        "\n",
        "    # generate Fisher (F) matrix for EWC\n",
        "    self._precision_matrices = self._calculate_importance()\n",
        "\n",
        "    # keep the old parameter in self.p_old\n",
        "    for n, p in self.params.items():\n",
        "      self.p_old[n] = p.clone().detach()\n",
        "\n",
        "  def _calculate_importance(self):\n",
        "    precision_matrices = {}\n",
        "    # initialize Fisher (F) matrix（all fill zero）and add previous guards\n",
        "    for n, p in self.params.items():\n",
        "      precision_matrices[n] = p.clone().detach().fill_(0)\n",
        "      for i in range(len(self.previous_guards_list)):\n",
        "        if self.previous_guards_list[i]:\n",
        "          precision_matrices[n] += self.previous_guards_list[i][n]\n",
        "\n",
        "    self.model.eval()\n",
        "    if self.dataloader is not None:\n",
        "      number_data = len(self.dataloader)\n",
        "      for data in self.dataloader:\n",
        "        self.model.zero_grad()\n",
        "        # get image data\n",
        "        input = data[0].to(self.device)\n",
        "\n",
        "        # image data forward model\n",
        "        output = self.model(input)\n",
        "\n",
        "        # Simply use groud truth label of dataset.\n",
        "        label = data[1].to(self.device)\n",
        "\n",
        "        # generate Fisher(F) matrix for EWC\n",
        "        loss = F.nll_loss(F.log_softmax(output, dim=1), label)\n",
        "        loss.backward()\n",
        "\n",
        "        for n, p in self.model.named_parameters():\n",
        "          # get the gradient of each parameter and square it, then average it in all validation set.\n",
        "          precision_matrices[n].data += p.grad.data ** 2 / number_data\n",
        "\n",
        "      precision_matrices = {n: p for n, p in precision_matrices.items()}\n",
        "    return precision_matrices\n",
        "\n",
        "  def penalty(self, model: nn.Module):\n",
        "    loss = 0\n",
        "    for n, p in model.named_parameters():\n",
        "      # generate the final regularization term by the ewc weight (self._precision_matrices[n]) and the square of weight difference ((p - self.p_old[n]) ** 2).\n",
        "      _loss = self._precision_matrices[n] * (p - self.p_old[n]) ** 2\n",
        "      loss += _loss.sum()\n",
        "    return loss\n",
        "\n",
        "  def update(self, model):\n",
        "    # do nothing\n",
        "    return"
      ]
    },
    {
      "cell_type": "code",
      "execution_count": 14,
      "metadata": {
        "colab": {
          "base_uri": "https://localhost:8080/"
        },
        "id": "FRIS2se1WFbL",
        "outputId": "e70d5aa6-24d8-47c6-eae3-6eb7ca7372eb"
      },
      "outputs": [
        {
          "name": "stdout",
          "output_type": "stream",
          "text": [
            "RUN EWC\n"
          ]
        },
        {
          "name": "stderr",
          "output_type": "stream",
          "text": [
            "Task   1:   0%|          | 0/5 [00:00<?, ?it/s]\n",
            "Epoch 1, Loss: 1.0000000:   0%|          | 0/10 [00:00<?, ?it/s]\u001b[A\n",
            "Epoch 1, Loss: 1.0000000:  10%|█         | 1/10 [00:31<04:43, 31.55s/it]\u001b[A\n",
            "Epoch 1, Loss: 1.0000000:  20%|██        | 2/10 [01:02<04:09, 31.19s/it]\u001b[A\n",
            "Epoch 1, Loss: 1.0000000:  30%|███       | 3/10 [01:33<03:38, 31.22s/it]\u001b[A\n",
            "Epoch 1, Loss: 1.0000000:  40%|████      | 4/10 [02:04<03:06, 31.03s/it]\u001b[A\n",
            "Epoch 1, Loss: 1.0000000:  50%|█████     | 5/10 [02:35<02:35, 31.08s/it]\u001b[A\n",
            "Epoch 1, Loss: 1.0000000:  60%|██████    | 6/10 [03:06<02:03, 30.86s/it]\u001b[A\n",
            "Epoch 1, Loss: 1.0000000:  70%|███████   | 7/10 [03:37<01:32, 30.93s/it]\u001b[A\n",
            "Epoch 1, Loss: 1.0000000:  80%|████████  | 8/10 [04:07<01:01, 30.85s/it]\u001b[A\n",
            "Epoch 1, Loss: 1.0000000:  90%|█████████ | 9/10 [04:38<00:30, 30.83s/it]\u001b[A\n",
            "Epoch 1, Loss: 1.0000000: 100%|██████████| 10/10 [05:09<00:00, 30.89s/it]\u001b[A\n",
            "Task   2:  20%|██        | 1/5 [05:36<22:25, 336.48s/it]\n",
            "Epoch 1, Loss: 1.0000000:   0%|          | 0/10 [00:00<?, ?it/s]\u001b[A\n",
            "Epoch 1, Loss: 1.0000000:  10%|█         | 1/10 [00:36<05:24, 36.08s/it]\u001b[A\n",
            "Epoch 1, Loss: 1.0000000:  20%|██        | 2/10 [01:11<04:45, 35.74s/it]\u001b[A\n",
            "Epoch 1, Loss: 1.0000000:  30%|███       | 3/10 [01:46<04:08, 35.45s/it]\u001b[A\n",
            "Epoch 1, Loss: 1.0000000:  40%|████      | 4/10 [02:22<03:32, 35.40s/it]\u001b[A\n",
            "Epoch 1, Loss: 1.0000000:  50%|█████     | 5/10 [02:56<02:55, 35.03s/it]\u001b[A\n",
            "Epoch 1, Loss: 1.0000000:  60%|██████    | 6/10 [03:30<02:19, 34.87s/it]\u001b[A\n",
            "Epoch 1, Loss: 1.0000000:  70%|███████   | 7/10 [04:07<01:46, 35.34s/it]\u001b[A\n",
            "Epoch 1, Loss: 1.0000000:  80%|████████  | 8/10 [04:43<01:11, 35.60s/it]\u001b[A\n",
            "Epoch 1, Loss: 1.0000000:  90%|█████████ | 9/10 [05:18<00:35, 35.45s/it]\u001b[A\n",
            "Epoch 1, Loss: 1.0000000: 100%|██████████| 10/10 [05:53<00:00, 35.39s/it]\u001b[A\n",
            "Task   3:  40%|████      | 2/5 [11:56<18:06, 362.30s/it]\n",
            "Epoch 1, Loss: 1.0000000:   0%|          | 0/10 [00:00<?, ?it/s]\u001b[A\n",
            "Epoch 1, Loss: 1.0000000:  10%|█         | 1/10 [00:39<05:51, 39.10s/it]\u001b[A\n",
            "Epoch 1, Loss: 1.0000000:  20%|██        | 2/10 [01:19<05:17, 39.64s/it]\u001b[A\n",
            "Epoch 1, Loss: 1.0000000:  30%|███       | 3/10 [01:58<04:36, 39.48s/it]\u001b[A\n",
            "Epoch 1, Loss: 1.0000000:  40%|████      | 4/10 [02:38<03:57, 39.59s/it]\u001b[A\n",
            "Epoch 1, Loss: 1.0000000:  50%|█████     | 5/10 [03:17<03:17, 39.52s/it]\u001b[A\n",
            "Epoch 1, Loss: 1.0000000:  60%|██████    | 6/10 [03:57<02:38, 39.69s/it]\u001b[A\n",
            "Epoch 1, Loss: 1.0000000:  70%|███████   | 7/10 [04:37<01:59, 39.72s/it]\u001b[A\n",
            "Epoch 1, Loss: 1.0000000:  80%|████████  | 8/10 [05:16<01:19, 39.63s/it]\u001b[A\n",
            "Epoch 1, Loss: 1.0000000:  90%|█████████ | 9/10 [05:56<00:39, 39.64s/it]\u001b[A\n",
            "Epoch 1, Loss: 1.0000000: 100%|██████████| 10/10 [06:36<00:00, 39.77s/it]\u001b[A\n",
            "Task   4:  60%|██████    | 3/5 [19:00<13:00, 390.38s/it]\n",
            "Epoch 1, Loss: 1.0000000:   0%|          | 0/10 [00:00<?, ?it/s]\u001b[A\n",
            "Epoch 1, Loss: 1.0000000:  10%|█         | 1/10 [00:44<06:41, 44.63s/it]\u001b[A\n",
            "Epoch 1, Loss: 1.0000000:  20%|██        | 2/10 [01:28<05:55, 44.42s/it]\u001b[A\n",
            "Epoch 1, Loss: 1.0000000:  30%|███       | 3/10 [02:12<05:08, 44.06s/it]\u001b[A\n",
            "Epoch 1, Loss: 1.0000000:  40%|████      | 4/10 [02:57<04:25, 44.25s/it]\u001b[A\n",
            "Epoch 1, Loss: 1.0000000:  50%|█████     | 5/10 [03:40<03:39, 43.92s/it]\u001b[A\n",
            "Epoch 1, Loss: 1.0000000:  60%|██████    | 6/10 [04:24<02:56, 44.04s/it]\u001b[A\n",
            "Epoch 1, Loss: 1.0000000:  70%|███████   | 7/10 [05:08<02:12, 44.01s/it]\u001b[A\n",
            "Epoch 1, Loss: 1.0000000:  80%|████████  | 8/10 [05:52<01:27, 43.87s/it]\u001b[A\n",
            "Epoch 1, Loss: 1.0000000:  90%|█████████ | 9/10 [06:36<00:43, 43.97s/it]\u001b[A\n",
            "Epoch 1, Loss: 1.0000000: 100%|██████████| 10/10 [07:21<00:00, 44.23s/it]\u001b[A\n",
            "Task   5:  80%|████████  | 4/5 [26:48<07:01, 421.10s/it]\n",
            "Epoch 1, Loss: 1.0000000:   0%|          | 0/10 [00:00<?, ?it/s]\u001b[A\n",
            "Epoch 1, Loss: 1.0000000:  10%|█         | 1/10 [00:47<07:06, 47.40s/it]\u001b[A\n",
            "Epoch 1, Loss: 1.0000000:  20%|██        | 2/10 [01:35<06:20, 47.53s/it]\u001b[A\n",
            "Epoch 1, Loss: 1.0000000:  30%|███       | 3/10 [02:23<05:34, 47.79s/it]\u001b[A\n",
            "Epoch 1, Loss: 1.0000000:  40%|████      | 4/10 [03:11<04:47, 47.88s/it]\u001b[A\n",
            "Epoch 1, Loss: 1.0000000:  50%|█████     | 5/10 [03:59<03:59, 47.91s/it]\u001b[A\n",
            "Epoch 1, Loss: 1.0000000:  60%|██████    | 6/10 [04:46<03:11, 47.80s/it]\u001b[A\n",
            "Epoch 1, Loss: 1.0000000:  70%|███████   | 7/10 [05:34<02:23, 47.85s/it]\u001b[A\n",
            "Epoch 1, Loss: 1.0000000:  80%|████████  | 8/10 [06:22<01:35, 47.96s/it]\u001b[A\n",
            "Epoch 1, Loss: 1.0000000:  90%|█████████ | 9/10 [07:11<00:48, 48.05s/it]\u001b[A\n",
            "Epoch 1, Loss: 1.0000000: 100%|██████████| 10/10 [07:58<00:00, 47.87s/it]\u001b[A\n",
            "Task   6: 100%|██████████| 5/5 [35:13<00:00, 422.64s/it]"
          ]
        },
        {
          "name": "stdout",
          "output_type": "stream",
          "text": [
            "[92.29, 94.59, 95.88, 96.28999999999999, 96.87, 97.09, 97.41, 97.54, 97.66, 97.8, 96.32499999999999, 96.00999999999999, 96.28, 96.275, 96.275, 96.22500000000001, 96.6, 96.36, 95.855, 96.255, 92.52333333333333, 90.94333333333333, 91.15666666666668, 90.98, 90.74, 90.91999999999999, 90.62333333333333, 90.12333333333333, 90.22, 90.77000000000001, 86.2325, 85.19250000000001, 84.755, 86.01500000000001, 83.26, 84.5625, 83.6625, 83.875, 83.655, 83.855, 80.89600000000002, 81.068, 78.778, 80.87599999999998, 80.85600000000002, 80.77799999999999, 80.166, 80.772, 78.812, 78.952]\n",
            "==================================================================================================\n"
          ]
        },
        {
          "name": "stderr",
          "output_type": "stream",
          "text": [
            "\n"
          ]
        }
      ],
      "source": [
        "# EWC\n",
        "print(\"RUN EWC\")\n",
        "model = Model()\n",
        "model = model.to(device)\n",
        "# initialize optimizer\n",
        "optimizer = torch.optim.Adam(model.parameters(), lr=args.lr)\n",
        "\n",
        "# initialize lifelong learning object for EWC\n",
        "lll_object=ewc(model=model, dataloader=None, device=device)\n",
        "\n",
        "# setup the coefficient value of regularization term.\n",
        "lll_lambda=10000\n",
        "ewc_acc= []\n",
        "task_bar = trange(len(train_dataloaders),desc=\"Task   1\")\n",
        "prev_guards = []\n",
        "\n",
        "# iterate training on each task continually.\n",
        "for train_indexes in task_bar:\n",
        "  # Train Each Task\n",
        "  model, _, acc_list = train(model, optimizer, train_dataloaders[train_indexes], args.epochs_per_task, lll_object, lll_lambda, evaluate=evaluate,device=device, test_dataloaders=test_dataloaders[:train_indexes+1])\n",
        "\n",
        "  # get model weight and calculate guidance for each weight\n",
        "  prev_guards.append(lll_object._precision_matrices)\n",
        "  lll_object=ewc(model=model, dataloader=train_dataloaders[train_indexes], device=device, prev_guards=prev_guards)\n",
        "\n",
        "  # new a Optimizer\n",
        "  optimizer = torch.optim.Adam(model.parameters(), lr=args.lr)\n",
        "\n",
        "  # collect average accuracy in each epoch\n",
        "  ewc_acc.extend(acc_list)\n",
        "\n",
        "  # Update tqdm displayer\n",
        "  task_bar.set_description_str(f\"Task  {train_indexes+2:2}\")\n",
        "\n",
        "# average accuracy in each task per epoch!\n",
        "print(ewc_acc)\n",
        "print(\"==================================================================================================\")"
      ]
    },
    {
      "attachments": {},
      "cell_type": "markdown",
      "metadata": {},
      "source": [
        "#### Question 1: \n",
        "How to generate Guardiance weight from EWC?\n",
        "\n",
        "#### Answer:\n",
        "In Elastic Weight Consolidation (EWC), the importance of each parameter is computed using the Fisher Information Matrix.\n",
        "\n",
        "#### Question 2:\n",
        "Do this method need to use label ?\n",
        "#### Answer:\n",
        "Yes, the EWC method does need to use labels to compute the Fisher Information Matrix because the importance of each parameter is evaluated based on how sensitive the loss is to changes in the parameters, which is calculated using the gradients of the loss function with respect to the model parameters."
      ]
    },
    {
      "cell_type": "markdown",
      "metadata": {
        "id": "7OTZLwxrWFbL"
      },
      "source": [
        "### MAS\n",
        "Memory Aware Synapses\n",
        "\n",
        "The mas class applied MAS algorithm to calculate the regularization term.\n",
        "\n",
        "The concept of MAS is similar to EWC, the only difference is the calculation of the important weight.\n",
        "The details are mentioned in the following blocks.\n",
        "\n",
        "MAS:\n",
        "\n",
        "In MAS, the Loss function is shown below, the model learns task A before it learned task B.\n",
        "\n",
        "$$\\mathcal{L}_B = \\mathcal{L}(\\theta) + \\sum_{i} \\frac{\\lambda}{2} \\Omega_i (\\theta_{i} - \\theta_{A,i}^{*})^2$$\n",
        "\n",
        "Compare with EWC, the $F_i$ in the loss function is replaced with $\\Omega_i$ in the following function.\n",
        "\n",
        "$$\\Omega_i = || \\frac{\\partial \\ell_2^2(M(x_k; \\theta))}{\\partial \\theta_i} || $$\n",
        "\n",
        "$x_k$ is the sample data of the previous task. So the $\\Omega$ is obtained gradients of the squared L2-norm of the learned network output.\n",
        "\n",
        "The method proposed in the paper is the local version by taking squared L2-norm outputs from each layer of the model.\n",
        "\n",
        "Here we only want you to implement the global version by taking outputs from the last layer of the model.\n",
        "\n",
        "For Your Information:\n",
        "[Memory Aware Synapses](https://arxiv.org/pdf/1711.09601.pdf)"
      ]
    },
    {
      "cell_type": "code",
      "execution_count": 15,
      "metadata": {
        "id": "kg5tuGdDWFbM"
      },
      "outputs": [],
      "source": [
        "class mas(object):\n",
        "  \"\"\"\n",
        "  @article{aljundi2017memory,\n",
        "      title={Memory Aware Synapses: Learning what (not) to forget},\n",
        "      author={Aljundi, Rahaf and Babiloni, Francesca and Elhoseiny, Mohamed and Rohrbach, Marcus and Tuytelaars, Tinne},\n",
        "      booktitle={ECCV},\n",
        "      year={2018},\n",
        "      url={https://eccv2018.org/openaccess/content_ECCV_2018/papers/Rahaf_Aljundi_Memory_Aware_Synapses_ECCV_2018_paper.pdf}\n",
        "  }\n",
        "  \"\"\"\n",
        "  def __init__(self, model: nn.Module, dataloader, device, prev_guards=[None]):\n",
        "    self.model = model\n",
        "    self.dataloader = dataloader\n",
        "    # extract all parameters in models\n",
        "    self.params = {n: p for n, p in self.model.named_parameters() if p.requires_grad}\n",
        "\n",
        "    # initialize parameters\n",
        "    self.p_old = {}\n",
        "\n",
        "    self.device = device\n",
        "\n",
        "    # save previous guards\n",
        "    self.previous_guards_list = prev_guards\n",
        "\n",
        "    # generate Omega(Ω) matrix for MAS\n",
        "    self._precision_matrices = self.calculate_importance()\n",
        "\n",
        "    # keep the old parameter in self.p_old\n",
        "    for n, p in self.params.items():\n",
        "      self.p_old[n] = p.clone().detach()\n",
        "\n",
        "  def calculate_importance(self):\n",
        "    precision_matrices = {}\n",
        "    # initialize Omega(Ω) matrix（all filled zero）\n",
        "    for n, p in self.params.items():\n",
        "      precision_matrices[n] = p.clone().detach().fill_(0)\n",
        "      for i in range(len(self.previous_guards_list)):\n",
        "        if self.previous_guards_list[i]:\n",
        "          precision_matrices[n] += self.previous_guards_list[i][n]\n",
        "\n",
        "    self.model.eval()\n",
        "    if self.dataloader is not None:\n",
        "      num_data = len(self.dataloader)\n",
        "      for data in self.dataloader:\n",
        "        self.model.zero_grad()\n",
        "        output = self.model(data[0].to(self.device))\n",
        "        ################################################################\n",
        "        #####  TODO: generate Omega(Ω) matrix for MAS.  #####\n",
        "        l2_norm = output.norm(2, dim=1).pow(2).mean()\n",
        "        l2_norm.backward()\n",
        "        for n, p in self.model.named_parameters():\n",
        "          precision_matrices[n].data += p.grad.data ** 2 / num_data\n",
        "        ################################################################\n",
        "        ################################################################\n",
        "\n",
        "      precision_matrices = {n: p for n, p in precision_matrices.items()}\n",
        "    return precision_matrices\n",
        "\n",
        "  def penalty(self, model: nn.Module):\n",
        "    loss = 0\n",
        "    for n, p in model.named_parameters():\n",
        "      _loss = self._precision_matrices[n] * (p - self.p_old[n]) ** 2\n",
        "      loss += _loss.sum()\n",
        "    return loss\n",
        "\n",
        "  def update(self, model):\n",
        "    # do nothing\n",
        "    return"
      ]
    },
    {
      "cell_type": "code",
      "execution_count": 16,
      "metadata": {
        "colab": {
          "base_uri": "https://localhost:8080/"
        },
        "id": "p0d1DUBqWFbM",
        "outputId": "029b51b2-da20-45e8-91e6-e27af6ab3cec"
      },
      "outputs": [
        {
          "name": "stdout",
          "output_type": "stream",
          "text": [
            "RUN MAS\n"
          ]
        },
        {
          "name": "stderr",
          "output_type": "stream",
          "text": [
            "Task   1:   0%|          | 0/5 [00:00<?, ?it/s]\n",
            "Epoch 1, Loss: 1.0000000:   0%|          | 0/10 [00:00<?, ?it/s]\u001b[A\n",
            "Epoch 1, Loss: 1.0000000:  10%|█         | 1/10 [00:30<04:33, 30.43s/it]\u001b[A\n",
            "Epoch 1, Loss: 1.0000000:  20%|██        | 2/10 [01:01<04:06, 30.80s/it]\u001b[A\n",
            "Epoch 1, Loss: 1.0000000:  30%|███       | 3/10 [01:32<03:35, 30.81s/it]\u001b[A\n",
            "Epoch 1, Loss: 1.0000000:  40%|████      | 4/10 [02:03<03:05, 30.94s/it]\u001b[A\n",
            "Epoch 1, Loss: 1.0000000:  50%|█████     | 5/10 [02:34<02:35, 31.06s/it]\u001b[A\n",
            "Epoch 1, Loss: 1.0000000:  60%|██████    | 6/10 [03:05<02:03, 30.94s/it]\u001b[A\n",
            "Epoch 1, Loss: 1.0000000:  70%|███████   | 7/10 [03:36<01:33, 31.11s/it]\u001b[A\n",
            "Epoch 1, Loss: 1.0000000:  80%|████████  | 8/10 [04:07<01:02, 31.09s/it]\u001b[A\n",
            "Epoch 1, Loss: 1.0000000:  90%|█████████ | 9/10 [04:38<00:31, 31.07s/it]\u001b[A\n",
            "Epoch 1, Loss: 1.0000000: 100%|██████████| 10/10 [05:09<00:00, 30.87s/it]\u001b[A\n",
            "Task   2:  20%|██        | 1/5 [05:36<22:26, 336.74s/it]\n",
            "Epoch 1, Loss: 1.0000000:   0%|          | 0/10 [00:00<?, ?it/s]\u001b[A\n",
            "Epoch 1, Loss: 1.0000000:  10%|█         | 1/10 [00:34<05:13, 34.79s/it]\u001b[A\n",
            "Epoch 1, Loss: 1.0000000:  20%|██        | 2/10 [01:10<04:40, 35.06s/it]\u001b[A\n",
            "Epoch 1, Loss: 1.0000000:  30%|███       | 3/10 [01:44<04:04, 34.91s/it]\u001b[A\n",
            "Epoch 1, Loss: 1.0000000:  40%|████      | 4/10 [02:19<03:30, 35.01s/it]\u001b[A\n",
            "Epoch 1, Loss: 1.0000000:  50%|█████     | 5/10 [02:55<02:55, 35.10s/it]\u001b[A\n",
            "Epoch 1, Loss: 1.0000000:  60%|██████    | 6/10 [03:30<02:20, 35.14s/it]\u001b[A\n",
            "Epoch 1, Loss: 1.0000000:  70%|███████   | 7/10 [04:05<01:45, 35.19s/it]\u001b[A\n",
            "Epoch 1, Loss: 1.0000000:  80%|████████  | 8/10 [04:40<01:10, 35.17s/it]\u001b[A\n",
            "Epoch 1, Loss: 1.0000000:  90%|█████████ | 9/10 [05:15<00:34, 34.99s/it]\u001b[A\n",
            "Epoch 1, Loss: 1.0000000: 100%|██████████| 10/10 [05:50<00:00, 34.96s/it]\u001b[A\n",
            "Task   3:  40%|████      | 2/5 [11:53<18:00, 360.09s/it]\n",
            "Epoch 1, Loss: 1.0000000:   0%|          | 0/10 [00:00<?, ?it/s]\u001b[A\n",
            "Epoch 1, Loss: 1.0000000:  10%|█         | 1/10 [00:39<05:53, 39.27s/it]\u001b[A\n",
            "Epoch 1, Loss: 1.0000000:  20%|██        | 2/10 [01:18<05:12, 39.10s/it]\u001b[A\n",
            "Epoch 1, Loss: 1.0000000:  30%|███       | 3/10 [01:57<04:32, 38.96s/it]\u001b[A\n",
            "Epoch 1, Loss: 1.0000000:  40%|████      | 4/10 [02:35<03:53, 38.92s/it]\u001b[A\n",
            "Epoch 1, Loss: 1.0000000:  50%|█████     | 5/10 [03:14<03:14, 38.88s/it]\u001b[A\n",
            "Epoch 1, Loss: 1.0000000:  60%|██████    | 6/10 [03:54<02:36, 39.09s/it]\u001b[A\n",
            "Epoch 1, Loss: 1.0000000:  70%|███████   | 7/10 [04:32<01:56, 38.96s/it]\u001b[A\n",
            "Epoch 1, Loss: 1.0000000:  80%|████████  | 8/10 [05:12<01:18, 39.12s/it]\u001b[A\n",
            "Epoch 1, Loss: 1.0000000:  90%|█████████ | 9/10 [05:51<00:39, 39.15s/it]\u001b[A\n",
            "Epoch 1, Loss: 1.0000000: 100%|██████████| 10/10 [06:30<00:00, 39.06s/it]\u001b[A\n",
            "Task   4:  60%|██████    | 3/5 [18:49<12:51, 385.96s/it]\n",
            "Epoch 1, Loss: 1.0000000:   0%|          | 0/10 [00:00<?, ?it/s]\u001b[A\n",
            "Epoch 1, Loss: 1.0000000:  10%|█         | 1/10 [00:42<06:24, 42.71s/it]\u001b[A\n",
            "Epoch 1, Loss: 1.0000000:  20%|██        | 2/10 [01:27<05:49, 43.67s/it]\u001b[A\n",
            "Epoch 1, Loss: 1.0000000:  30%|███       | 3/10 [02:10<05:03, 43.34s/it]\u001b[A\n",
            "Epoch 1, Loss: 1.0000000:  40%|████      | 4/10 [02:53<04:20, 43.37s/it]\u001b[A\n",
            "Epoch 1, Loss: 1.0000000:  50%|█████     | 5/10 [03:36<03:35, 43.14s/it]\u001b[A\n",
            "Epoch 1, Loss: 1.0000000:  60%|██████    | 6/10 [04:19<02:53, 43.34s/it]\u001b[A\n",
            "Epoch 1, Loss: 1.0000000:  70%|███████   | 7/10 [05:02<02:09, 43.16s/it]\u001b[A\n",
            "Epoch 1, Loss: 1.0000000:  80%|████████  | 8/10 [05:45<01:26, 43.12s/it]\u001b[A\n",
            "Epoch 1, Loss: 1.0000000:  90%|█████████ | 9/10 [06:29<00:43, 43.28s/it]\u001b[A\n",
            "Epoch 1, Loss: 1.0000000: 100%|██████████| 10/10 [07:11<00:00, 43.06s/it]\u001b[A\n",
            "Task   5:  80%|████████  | 4/5 [26:27<06:54, 414.33s/it]\n",
            "Epoch 1, Loss: 1.0000000:   0%|          | 0/10 [00:00<?, ?it/s]\u001b[A\n",
            "Epoch 1, Loss: 1.0000000:  10%|█         | 1/10 [00:47<07:11, 47.89s/it]\u001b[A\n",
            "Epoch 1, Loss: 1.0000000:  20%|██        | 2/10 [01:35<06:21, 47.73s/it]\u001b[A\n",
            "Epoch 1, Loss: 1.0000000:  30%|███       | 3/10 [02:22<05:33, 47.60s/it]\u001b[A\n",
            "Epoch 1, Loss: 1.0000000:  40%|████      | 4/10 [03:10<04:45, 47.54s/it]\u001b[A\n",
            "Epoch 1, Loss: 1.0000000:  50%|█████     | 5/10 [03:57<03:57, 47.53s/it]\u001b[A\n",
            "Epoch 1, Loss: 1.0000000:  60%|██████    | 6/10 [04:45<03:10, 47.64s/it]\u001b[A\n",
            "Epoch 1, Loss: 1.0000000:  70%|███████   | 7/10 [05:33<02:23, 47.75s/it]\u001b[A\n",
            "Epoch 1, Loss: 1.0000000:  80%|████████  | 8/10 [06:21<01:35, 47.86s/it]\u001b[A\n",
            "Epoch 1, Loss: 1.0000000:  90%|█████████ | 9/10 [07:09<00:47, 47.65s/it]\u001b[A\n",
            "Epoch 1, Loss: 1.0000000: 100%|██████████| 10/10 [07:57<00:00, 47.76s/it]\u001b[A\n",
            "Task   6: 100%|██████████| 5/5 [34:52<00:00, 418.49s/it]"
          ]
        },
        {
          "name": "stdout",
          "output_type": "stream",
          "text": [
            "[92.35, 94.54, 95.36, 96.35000000000001, 96.91, 96.98, 97.39, 97.56, 97.7, 97.84, 95.78999999999999, 96.15, 96.56, 95.505, 96.05, 96.115, 96.41, 96.34, 96.53, 95.88499999999999, 92.08333333333333, 92.82000000000001, 92.64333333333333, 92.24, 92.49666666666666, 92.45, 91.75999999999999, 92.67, 92.36666666666666, 92.73666666666665, 87.7225, 86.8275, 87.26499999999999, 87.0475, 87.565, 88.4725, 87.245, 87.71, 87.57750000000001, 89.285, 83.816, 81.904, 84.73199999999999, 84.98199999999999, 84.27799999999999, 83.292, 82.838, 84.154, 81.868, 81.81800000000001]\n",
            "==================================================================================================\n"
          ]
        },
        {
          "name": "stderr",
          "output_type": "stream",
          "text": [
            "\n"
          ]
        }
      ],
      "source": [
        "# MAS\n",
        "print(\"RUN MAS\")\n",
        "model = Model()\n",
        "model = model.to(device)\n",
        "optimizer = torch.optim.Adam(model.parameters(), lr=args.lr)\n",
        "\n",
        "lll_object=mas(model=model, dataloader=None, device=device)\n",
        "lll_lambda=0.2\n",
        "mas_acc= []\n",
        "task_bar = trange(len(train_dataloaders),desc=\"Task   1\")\n",
        "prev_guards = []\n",
        "\n",
        "for train_indexes in task_bar:\n",
        "  # Train Each Task\n",
        "  model, _, acc_list = train(model, optimizer, train_dataloaders[train_indexes], args.epochs_per_task, lll_object, lll_lambda, evaluate=evaluate,device=device, test_dataloaders=test_dataloaders[:train_indexes+1])\n",
        "\n",
        "  # get model weight and calculate guidance for each weight\n",
        "  prev_guards.append(lll_object._precision_matrices)\n",
        "  lll_object=mas(model=model, dataloader=train_dataloaders[train_indexes], device=device, prev_guards=prev_guards)\n",
        "\n",
        "  # New a Optimizer\n",
        "  optimizer = torch.optim.Adam(model.parameters(), lr=args.lr)\n",
        "\n",
        "  # Collect average accuracy in each epoch\n",
        "  mas_acc.extend(acc_list)\n",
        "  task_bar.set_description_str(f\"Task  {train_indexes+2:2}\")\n",
        "\n",
        "# average accuracy in each task per epoch!\n",
        "print(mas_acc)\n",
        "print(\"==================================================================================================\")"
      ]
    },
    {
      "attachments": {},
      "cell_type": "markdown",
      "metadata": {},
      "source": [
        "#### Question 1: \n",
        "How to generate Guardiance weight from MAS?\n",
        "\n",
        "#### Answer:\n",
        "In Memory Aware Synapse (MAS), the only difference from EWC is to change the Fisher Matrix to the Omega Matrix\n",
        "\n",
        "#### Question 2:\n",
        "Do this method need to use label ?\n",
        "\n",
        "#### Answer:\n",
        "The Memory Aware Synapses (MAS) method does not require the use of labels because it computes the importance of each parameter based on the sensitivity of the model's output (activations) to changes in the parameters. This is done by evaluating how much the output of the network changes when small changes are made to the parameters.\n",
        "\n",
        "#### Question 3:\n",
        "We want you to implement Omega Matrix for MAS! Please read page 21 carefully and paste your code (only TODO block) in report.\n",
        "\n",
        "#### Answer:\n",
        "```python\n",
        "        ################################################################\n",
        "        #####  TODO: generate Omega(Ω) matrix for MAS.  #####\n",
        "        l2_norm = output.norm(2, dim=1).pow(2).mean()\n",
        "        l2_norm.backward()\n",
        "        for n, p in self.model.named_parameters():\n",
        "          precision_matrices[n].data += p.grad.data ** 2 / num_data\n",
        "        ################################################################\n",
        "        ################################################################\n",
        "```"
      ]
    },
    {
      "cell_type": "markdown",
      "metadata": {
        "id": "YXgF4OXtWFbM"
      },
      "source": [
        "### SI\n",
        "The si class applied SI (Synaptic Intelligence) algorithm to calculate the regularization term."
      ]
    },
    {
      "cell_type": "code",
      "execution_count": 17,
      "metadata": {
        "id": "BBb0NwlNWFbM"
      },
      "outputs": [],
      "source": [
        "# SI\n",
        "class si(object):\n",
        "  \"\"\"\n",
        "  @article{kirkpatrick2017overcoming,\n",
        "      title={Overcoming catastrophic forgetting in neural networks},\n",
        "      author={Kirkpatrick, James and Pascanu, Razvan and Rabinowitz, Neil and Veness, Joel and Desjardins, Guillaume and Rusu, Andrei A and Milan, Kieran and Quan, John and Ramalho, Tiago and Grabska-Barwinska, Agnieszka and others},\n",
        "      journal={Proceedings of the national academy of sciences},\n",
        "      year={2017},\n",
        "      url={https://arxiv.org/abs/1612.00796}\n",
        "  }\n",
        "  \"\"\"\n",
        "  def __init__(self, model, dataloader, epsilon, device):\n",
        "    self.model = model\n",
        "    self.dataloader = dataloader\n",
        "    self.device = device\n",
        "    self.epsilon = epsilon\n",
        "    # extract all parameters in models\n",
        "    self.params = {n: p for n, p in self.model.named_parameters() if p.requires_grad}\n",
        "\n",
        "    self._n_p_prev, self._n_omega = self._calculate_importance()\n",
        "    self.W, self.p_old = self._init_()\n",
        "\n",
        "\n",
        "  def _init_(self):\n",
        "    W = {}\n",
        "    p_old = {}\n",
        "    for n, p in self.model.named_parameters():\n",
        "      n = n.replace('.', '__')\n",
        "      if p.requires_grad:\n",
        "        W[n] = p.data.clone().zero_()\n",
        "        p_old[n] = p.data.clone()\n",
        "    return W, p_old\n",
        "\n",
        "  def _calculate_importance(self):\n",
        "    n_p_prev = {}\n",
        "    n_omega = {}\n",
        "\n",
        "    if self.dataloader != None:\n",
        "      for n, p in self.model.named_parameters():\n",
        "        n = n.replace('.', '__')\n",
        "        if p.requires_grad:\n",
        "          # Find/calculate new values for quadratic penalty on parameters\n",
        "          p_prev = getattr(self.model, '{}_SI_prev_task'.format(n))\n",
        "          W = getattr(self.model, '{}_W'.format(n))\n",
        "          p_current = p.detach().clone()\n",
        "          p_change = p_current - p_prev\n",
        "          omega_add = W/(p_change**2 + self.epsilon)\n",
        "          try:\n",
        "            omega = getattr(self.model, '{}_SI_omega'.format(n))\n",
        "          except AttributeError:\n",
        "            omega = p.detach().clone().zero_()\n",
        "          omega_new = omega + omega_add\n",
        "          n_omega[n] = omega_new\n",
        "          n_p_prev[n] = p_current\n",
        "\n",
        "          # Store these new values in the model\n",
        "          self.model.register_buffer('{}_SI_prev_task'.format(n), p_current)\n",
        "          self.model.register_buffer('{}_SI_omega'.format(n), omega_new)\n",
        "\n",
        "    else:\n",
        "      for n, p in self.model.named_parameters():\n",
        "        n = n.replace('.', '__')\n",
        "        if p.requires_grad:\n",
        "          n_p_prev[n] = p.detach().clone()\n",
        "          n_omega[n] = p.detach().clone().zero_()\n",
        "          self.model.register_buffer('{}_SI_prev_task'.format(n), p.detach().clone())\n",
        "    return n_p_prev, n_omega\n",
        "\n",
        "  def penalty(self, model: nn.Module):\n",
        "    loss = 0.0\n",
        "    for n, p in model.named_parameters():\n",
        "      n = n.replace('.', '__')\n",
        "      if p.requires_grad:\n",
        "        prev_values = self._n_p_prev[n]\n",
        "        omega = self._n_omega[n]\n",
        "        _loss = omega * (p - prev_values) ** 2\n",
        "        loss += _loss.sum()\n",
        "    return loss\n",
        "\n",
        "  def update(self, model):\n",
        "    for n, p in model.named_parameters():\n",
        "      n = n.replace('.', '__')\n",
        "      if p.requires_grad:\n",
        "        if p.grad is not None:\n",
        "          self.W[n].add_(-p.grad * (p.detach() - self.p_old[n]))\n",
        "          self.model.register_buffer('{}_W'.format(n), self.W[n])\n",
        "        self.p_old[n] = p.detach().clone()\n",
        "    return"
      ]
    },
    {
      "cell_type": "code",
      "execution_count": 18,
      "metadata": {
        "colab": {
          "base_uri": "https://localhost:8080/"
        },
        "id": "cdYo8wuPWFbM",
        "outputId": "339d49f0-ff70-4a05-f951-1514825a24e3"
      },
      "outputs": [
        {
          "name": "stdout",
          "output_type": "stream",
          "text": [
            "RUN SI\n"
          ]
        },
        {
          "name": "stderr",
          "output_type": "stream",
          "text": [
            "Task   1:   0%|          | 0/5 [00:00<?, ?it/s]\n",
            "Epoch 1, Loss: 1.0000000:   0%|          | 0/10 [00:00<?, ?it/s]\u001b[A\n",
            "Epoch 1, Loss: 1.0000000:  10%|█         | 1/10 [00:30<04:34, 30.51s/it]\u001b[A\n",
            "Epoch 1, Loss: 1.0000000:  20%|██        | 2/10 [01:01<04:08, 31.04s/it]\u001b[A\n",
            "Epoch 1, Loss: 1.0000000:  30%|███       | 3/10 [01:32<03:35, 30.84s/it]\u001b[A\n",
            "Epoch 1, Loss: 1.0000000:  40%|████      | 4/10 [02:04<03:06, 31.15s/it]\u001b[A\n",
            "Epoch 1, Loss: 1.0000000:  50%|█████     | 5/10 [02:34<02:34, 30.88s/it]\u001b[A\n",
            "Epoch 1, Loss: 1.0000000:  60%|██████    | 6/10 [03:05<02:03, 30.89s/it]\u001b[A\n",
            "Epoch 1, Loss: 1.0000000:  70%|███████   | 7/10 [03:35<01:31, 30.63s/it]\u001b[A\n",
            "Epoch 1, Loss: 1.0000000:  80%|████████  | 8/10 [04:06<01:01, 30.80s/it]\u001b[A\n",
            "Epoch 1, Loss: 1.0000000:  90%|█████████ | 9/10 [04:37<00:30, 30.78s/it]\u001b[A\n",
            "Epoch 1, Loss: 1.0000000: 100%|██████████| 10/10 [05:08<00:00, 30.98s/it]\u001b[A\n",
            "Task   2:  20%|██        | 1/5 [05:08<20:35, 308.91s/it]\n",
            "Epoch 1, Loss: 1.0000000:   0%|          | 0/10 [00:00<?, ?it/s]\u001b[A\n",
            "Epoch 1, Loss: 1.0000000:  10%|█         | 1/10 [00:35<05:15, 35.10s/it]\u001b[A\n",
            "Epoch 1, Loss: 1.0000000:  20%|██        | 2/10 [01:10<04:42, 35.26s/it]\u001b[A\n",
            "Epoch 1, Loss: 1.0000000:  30%|███       | 3/10 [01:45<04:07, 35.30s/it]\u001b[A\n",
            "Epoch 1, Loss: 1.0000000:  40%|████      | 4/10 [02:21<03:32, 35.35s/it]\u001b[A\n",
            "Epoch 1, Loss: 1.0000000:  50%|█████     | 5/10 [02:56<02:57, 35.45s/it]\u001b[A\n",
            "Epoch 1, Loss: 1.0000000:  60%|██████    | 6/10 [03:31<02:20, 35.19s/it]\u001b[A\n",
            "Epoch 1, Loss: 1.0000000:  70%|███████   | 7/10 [04:07<01:46, 35.39s/it]\u001b[A\n",
            "Epoch 1, Loss: 1.0000000:  80%|████████  | 8/10 [04:42<01:10, 35.37s/it]\u001b[A\n",
            "Epoch 1, Loss: 1.0000000:  90%|█████████ | 9/10 [05:18<00:35, 35.46s/it]\u001b[A\n",
            "Epoch 1, Loss: 1.0000000: 100%|██████████| 10/10 [05:53<00:00, 35.39s/it]\u001b[A\n",
            "Task   3:  40%|████      | 2/5 [11:02<16:45, 335.20s/it]\n",
            "Epoch 1, Loss: 1.0000000:   0%|          | 0/10 [00:00<?, ?it/s]\u001b[A\n",
            "Epoch 1, Loss: 1.0000000:  10%|█         | 1/10 [00:39<05:56, 39.58s/it]\u001b[A\n",
            "Epoch 1, Loss: 1.0000000:  20%|██        | 2/10 [01:19<05:17, 39.70s/it]\u001b[A\n",
            "Epoch 1, Loss: 1.0000000:  30%|███       | 3/10 [01:58<04:36, 39.55s/it]\u001b[A\n",
            "Epoch 1, Loss: 1.0000000:  40%|████      | 4/10 [02:38<03:57, 39.51s/it]\u001b[A\n",
            "Epoch 1, Loss: 1.0000000:  50%|█████     | 5/10 [03:17<03:17, 39.47s/it]\u001b[A\n",
            "Epoch 1, Loss: 1.0000000:  60%|██████    | 6/10 [03:58<02:39, 39.90s/it]\u001b[A\n",
            "Epoch 1, Loss: 1.0000000:  70%|███████   | 7/10 [04:37<01:58, 39.61s/it]\u001b[A\n",
            "Epoch 1, Loss: 1.0000000:  80%|████████  | 8/10 [05:16<01:18, 39.37s/it]\u001b[A\n",
            "Epoch 1, Loss: 1.0000000:  90%|█████████ | 9/10 [05:54<00:39, 39.15s/it]\u001b[A\n",
            "Epoch 1, Loss: 1.0000000: 100%|██████████| 10/10 [06:34<00:00, 39.21s/it]\u001b[A\n",
            "Task   4:  60%|██████    | 3/5 [17:36<12:04, 362.15s/it]\n",
            "Epoch 1, Loss: 1.0000000:   0%|          | 0/10 [00:00<?, ?it/s]\u001b[A\n",
            "Epoch 1, Loss: 1.0000000:  10%|█         | 1/10 [00:42<06:24, 42.68s/it]\u001b[A\n",
            "Epoch 1, Loss: 1.0000000:  20%|██        | 2/10 [01:25<05:43, 42.91s/it]\u001b[A\n",
            "Epoch 1, Loss: 1.0000000:  30%|███       | 3/10 [02:08<04:59, 42.85s/it]\u001b[A\n",
            "Epoch 1, Loss: 1.0000000:  40%|████      | 4/10 [02:51<04:18, 43.06s/it]\u001b[A\n",
            "Epoch 1, Loss: 1.0000000:  50%|█████     | 5/10 [03:34<03:34, 42.93s/it]\u001b[A\n",
            "Epoch 1, Loss: 1.0000000:  60%|██████    | 6/10 [04:17<02:52, 43.00s/it]\u001b[A\n",
            "Epoch 1, Loss: 1.0000000:  70%|███████   | 7/10 [05:00<02:08, 42.98s/it]\u001b[A\n",
            "Epoch 1, Loss: 1.0000000:  80%|████████  | 8/10 [05:44<01:26, 43.19s/it]\u001b[A\n",
            "Epoch 1, Loss: 1.0000000:  90%|█████████ | 9/10 [06:26<00:42, 42.99s/it]\u001b[A\n",
            "Epoch 1, Loss: 1.0000000: 100%|██████████| 10/10 [07:10<00:00, 43.12s/it]\u001b[A\n",
            "Task   5:  80%|████████  | 4/5 [24:47<06:29, 389.05s/it]\n",
            "Epoch 1, Loss: 1.0000000:   0%|          | 0/10 [00:00<?, ?it/s]\u001b[A\n",
            "Epoch 1, Loss: 1.0000000:  10%|█         | 1/10 [00:47<07:08, 47.66s/it]\u001b[A\n",
            "Epoch 1, Loss: 1.0000000:  20%|██        | 2/10 [01:34<06:18, 47.26s/it]\u001b[A\n",
            "Epoch 1, Loss: 1.0000000:  30%|███       | 3/10 [02:22<05:31, 47.42s/it]\u001b[A\n",
            "Epoch 1, Loss: 1.0000000:  40%|████      | 4/10 [03:08<04:42, 47.13s/it]\u001b[A\n",
            "Epoch 1, Loss: 1.0000000:  50%|█████     | 5/10 [03:55<03:54, 46.98s/it]\u001b[A\n",
            "Epoch 1, Loss: 1.0000000:  60%|██████    | 6/10 [04:43<03:08, 47.13s/it]\u001b[A\n",
            "Epoch 1, Loss: 1.0000000:  70%|███████   | 7/10 [05:31<02:22, 47.46s/it]\u001b[A\n",
            "Epoch 1, Loss: 1.0000000:  80%|████████  | 8/10 [06:18<01:34, 47.43s/it]\u001b[A\n",
            "Epoch 1, Loss: 1.0000000:  90%|█████████ | 9/10 [07:05<00:47, 47.25s/it]\u001b[A\n",
            "Epoch 1, Loss: 1.0000000: 100%|██████████| 10/10 [07:52<00:00, 47.26s/it]\u001b[A\n",
            "Task   6: 100%|██████████| 5/5 [32:39<00:00, 391.96s/it]"
          ]
        },
        {
          "name": "stdout",
          "output_type": "stream",
          "text": [
            "[92.72, 94.17, 95.73, 96.28, 96.89999999999999, 97.03, 97.17, 97.6, 97.71, 97.86, 96.015, 95.83500000000001, 95.725, 96.36, 96.44999999999999, 96.05, 96.385, 96.41999999999999, 95.825, 96.00999999999999, 92.08999999999999, 91.76333333333334, 92.45666666666666, 92.37333333333333, 92.72333333333333, 92.16333333333333, 92.30000000000001, 91.23666666666666, 91.31333333333335, 90.96000000000001, 83.765, 84.585, 86.0925, 84.97250000000001, 85.06, 86.4475, 85.0275, 84.7475, 84.8925, 84.5175, 80.35399999999998, 79.622, 79.09, 78.216, 79.71799999999999, 79.086, 78.754, 78.466, 78.3, 78.08]\n",
            "==================================================================================================\n"
          ]
        },
        {
          "name": "stderr",
          "output_type": "stream",
          "text": [
            "\n"
          ]
        }
      ],
      "source": [
        "# SI\n",
        "print(\"RUN SI\")\n",
        "model = Model()\n",
        "model = model.to(device)\n",
        "optimizer = torch.optim.Adam(model.parameters(), lr=args.lr)\n",
        "\n",
        "lll_object=si(model=model, dataloader=None, epsilon=0.1, device=device)\n",
        "lll_lambda=50\n",
        "si_acc = []\n",
        "task_bar = trange(len(train_dataloaders),desc=\"Task   1\")\n",
        "\n",
        "for train_indexes in task_bar:\n",
        "  # Train Each Task\n",
        "  model, _, acc_list = train(model, optimizer, train_dataloaders[train_indexes], args.epochs_per_task, lll_object, lll_lambda, evaluate=evaluate,device=device, test_dataloaders=test_dataloaders[:train_indexes+1])\n",
        "\n",
        "  # get model weight and calculate guidance for each weight\n",
        "  lll_object=si(model=model, dataloader=train_dataloaders[train_indexes], epsilon=0.1, device=device)\n",
        "\n",
        "  # New a Optimizer\n",
        "  optimizer = torch.optim.Adam(model.parameters(), lr=args.lr)\n",
        "\n",
        "  # Collect average accuracy in each epoch\n",
        "  si_acc.extend(acc_list)\n",
        "  task_bar.set_description_str(f\"Task  {train_indexes+2:2}\")\n",
        "\n",
        "# average accuracy in each task per epoch!\n",
        "print(si_acc)\n",
        "print(\"==================================================================================================\")"
      ]
    },
    {
      "attachments": {},
      "cell_type": "markdown",
      "metadata": {},
      "source": [
        "#### Question 1: \n",
        "How to generate Guardiance weight from SI?\n",
        "\n",
        "#### Answer:\n",
        "To generate Guardiance weights using Synaptic Intelligence (SI), you need to compute the importance of each parameter based on how much the loss changes when the parameter changes. This involves tracking the parameter changes and the loss changes during training, which allows you to calculate the importance of each parameter for maintaining performance on previous tasks.\n",
        "\n",
        "#### Question 2:\n",
        "Do this method need to use label ?\n",
        "\n",
        "### Answer:\n",
        "Yes, Synaptic Intelligence (SI) does need to use labels because the importance of each parameter is based on how much the loss changes when the parameter changes, which requires labeled data to compute the loss.\n"
      ]
    },
    {
      "cell_type": "markdown",
      "metadata": {
        "id": "uObzNbO2WFbN"
      },
      "source": [
        "### RWalk\n",
        "\n",
        "#### Remanian Walk for Incremental Learning\n",
        "\n",
        "The rwalk class applied Remanian Walk algorithm to calculate the regularization term.\n",
        "\n",
        "The details are mentioned in the following blocks."
      ]
    },
    {
      "cell_type": "code",
      "execution_count": 19,
      "metadata": {
        "id": "Cbz6IwNpWFbN"
      },
      "outputs": [],
      "source": [
        "class rwalk(object):\n",
        "  def __init__(self, model, dataloader, epsilon, device, prev_guards=[None]):\n",
        "    self.model = model\n",
        "    self.dataloader = dataloader\n",
        "    self.device = device\n",
        "    self.epsilon = epsilon\n",
        "    self.update_ewc_parameter = 0.4\n",
        "    # extract model parameters and store in dictionary\n",
        "    self.params = {n: p for n, p in self.model.named_parameters() if p.requires_grad}\n",
        "\n",
        "    # initialize the guidance matrix\n",
        "    self._means = {}\n",
        "\n",
        "    self.previous_guards_list = prev_guards\n",
        "\n",
        "    # Generate Fisher (F) Information Matrix\n",
        "    self._precision_matrices = self._calculate_importance_ewc()\n",
        "\n",
        "    self._n_p_prev, self._n_omega = self._calculate_importance()\n",
        "    self.W, self.p_old = self._init_()\n",
        "\n",
        "  def _init_(self):\n",
        "    W = {}\n",
        "    p_old = {}\n",
        "    for n, p in self.model.named_parameters():\n",
        "      n = n.replace('.', '__')\n",
        "      if p.requires_grad:\n",
        "        W[n] = p.data.clone().zero_()\n",
        "        p_old[n] = p.data.clone()\n",
        "    return W, p_old\n",
        "\n",
        "  def _calculate_importance(self):\n",
        "    n_p_prev = {}\n",
        "    n_omega = {}\n",
        "\n",
        "    if self.dataloader is not None:\n",
        "      for n, p in self.model.named_parameters():\n",
        "        n = n.replace('.', '__')\n",
        "        if p.requires_grad:\n",
        "          # Find/calculate new values for quadratic penalty on parameters\n",
        "          p_prev = getattr(self.model, '{}_SI_prev_task'.format(n))\n",
        "          W = getattr(self.model, '{}_W'.format(n))\n",
        "          p_current = p.detach().clone()\n",
        "          p_change = p_current - p_prev\n",
        "          omega_add = W / (1.0 / 2.0*self._precision_matrices[n] *p_change**2 + self.epsilon)\n",
        "          try:\n",
        "              omega = getattr(self.model, '{}_SI_omega'.format(n))\n",
        "          except AttributeError:\n",
        "              omega = p.detach().clone().zero_()\n",
        "          omega_new = 0.5 * omega + 0.5 *omega_add\n",
        "          n_omega[n] = omega_new\n",
        "          n_p_prev[n] = p_current\n",
        "\n",
        "          # Store these new values in the model\n",
        "          self.model.register_buffer('{}_SI_prev_task'.format(n), p_current)\n",
        "          self.model.register_buffer('{}_SI_omega'.format(n), omega_new)\n",
        "\n",
        "    else:\n",
        "      for n, p in self.model.named_parameters():\n",
        "        n = n.replace('.', '__')\n",
        "        if p.requires_grad:\n",
        "          n_p_prev[n] = p.detach().clone()\n",
        "          n_omega[n] = p.detach().clone().zero_()\n",
        "          self.model.register_buffer('{}_SI_prev_task'.format(n), p.detach().clone())\n",
        "    return n_p_prev, n_omega\n",
        "\n",
        "  def _calculate_importance_ewc(self):\n",
        "    precision_matrices = {}\n",
        "    for n, p in self.params.items():\n",
        "      # initialize Fisher (F) matrix（all fill zero）\n",
        "      n = n.replace('.', '__')\n",
        "      precision_matrices[n] = p.clone().detach().fill_(0)\n",
        "      for i in range(len(self.previous_guards_list)):\n",
        "        if self.previous_guards_list[i]:\n",
        "          precision_matrices[n] += self.previous_guards_list[i][n]\n",
        "\n",
        "\n",
        "    self.model.eval()\n",
        "    if self.dataloader is not None:\n",
        "      number_data = len(self.dataloader)\n",
        "      for n, p in self.model.named_parameters():\n",
        "        n = n.replace('.', '__')\n",
        "        precision_matrices[n].data *= (1 - self.update_ewc_parameter)\n",
        "      for data in self.dataloader:\n",
        "        self.model.zero_grad()\n",
        "        input = data[0].to(self.device)\n",
        "        output = self.model(input)\n",
        "        label = data[1].to(self.device)\n",
        "\n",
        "        # generate Fisher(F) matrix for RWALK\n",
        "        loss = F.nll_loss(F.log_softmax(output, dim=1), label)\n",
        "        loss.backward()\n",
        "\n",
        "        for n, p in self.model.named_parameters():\n",
        "          n = n.replace('.', '__')\n",
        "          precision_matrices[n].data += self.update_ewc_parameter*p.grad.data ** 2 / number_data\n",
        "\n",
        "      precision_matrices = {n: p for n, p in precision_matrices.items()}\n",
        "    return precision_matrices\n",
        "\n",
        "  def penalty(self, model: nn.Module):\n",
        "    loss = 0.0\n",
        "    for n, p in model.named_parameters():\n",
        "      n = n.replace('.', '__')\n",
        "      if p.requires_grad:\n",
        "        prev_values = self._n_p_prev[n]\n",
        "        omega = self._n_omega[n]\n",
        "        # Generate regularization term  _loss by omega and Fisher Matrix\n",
        "        _loss = (omega + self._precision_matrices[n]) * (p - prev_values) ** 2\n",
        "        loss += _loss.sum()\n",
        "\n",
        "    return loss\n",
        "\n",
        "  def update(self, model):\n",
        "    for n, p in model.named_parameters():\n",
        "      n = n.replace('.', '__')\n",
        "      if p.requires_grad:\n",
        "        if p.grad is not None:\n",
        "          self.W[n].add_(-p.grad * (p.detach() - self.p_old[n]))\n",
        "          self.model.register_buffer('{}_W'.format(n), self.W[n])\n",
        "        self.p_old[n] = p.detach().clone()\n",
        "    return"
      ]
    },
    {
      "cell_type": "code",
      "execution_count": 20,
      "metadata": {
        "colab": {
          "base_uri": "https://localhost:8080/"
        },
        "id": "QrsbxyDQWFbN",
        "outputId": "0166da97-dace-436b-bb64-7c5348596cdc"
      },
      "outputs": [
        {
          "name": "stdout",
          "output_type": "stream",
          "text": [
            "RUN Rwalk\n"
          ]
        },
        {
          "name": "stderr",
          "output_type": "stream",
          "text": [
            "Task   1:   0%|          | 0/5 [00:00<?, ?it/s]\n",
            "Epoch 1, Loss: 1.0000000:   0%|          | 0/10 [00:00<?, ?it/s]\u001b[A\n",
            "Epoch 1, Loss: 1.0000000:  10%|█         | 1/10 [00:30<04:34, 30.47s/it]\u001b[A\n",
            "Epoch 1, Loss: 1.0000000:  20%|██        | 2/10 [01:01<04:07, 30.89s/it]\u001b[A\n",
            "Epoch 1, Loss: 1.0000000:  30%|███       | 3/10 [01:32<03:35, 30.73s/it]\u001b[A\n",
            "Epoch 1, Loss: 1.0000000:  40%|████      | 4/10 [02:03<03:04, 30.81s/it]\u001b[A\n",
            "Epoch 1, Loss: 1.0000000:  50%|█████     | 5/10 [02:34<02:35, 31.13s/it]\u001b[A\n",
            "Epoch 1, Loss: 1.0000000:  60%|██████    | 6/10 [03:05<02:03, 30.93s/it]\u001b[A\n",
            "Epoch 1, Loss: 1.0000000:  70%|███████   | 7/10 [03:36<01:33, 31.12s/it]\u001b[A\n",
            "Epoch 1, Loss: 1.0000000:  80%|████████  | 8/10 [04:07<01:01, 30.94s/it]\u001b[A\n",
            "Epoch 1, Loss: 1.0000000:  90%|█████████ | 9/10 [04:38<00:31, 31.08s/it]\u001b[A\n",
            "Epoch 1, Loss: 1.0000000: 100%|██████████| 10/10 [05:09<00:00, 30.84s/it]\u001b[A\n",
            "Task   2:  20%|██        | 1/5 [05:34<22:18, 334.65s/it]\n",
            "Epoch 1, Loss: 1.0000000:   0%|          | 0/10 [00:00<?, ?it/s]\u001b[A\n",
            "Epoch 1, Loss: 1.0000000:  10%|█         | 1/10 [00:34<05:10, 34.53s/it]\u001b[A\n",
            "Epoch 1, Loss: 1.0000000:  20%|██        | 2/10 [01:09<04:38, 34.87s/it]\u001b[A\n",
            "Epoch 1, Loss: 1.0000000:  30%|███       | 3/10 [01:46<04:09, 35.66s/it]\u001b[A\n",
            "Epoch 1, Loss: 1.0000000:  40%|████      | 4/10 [02:22<03:36, 36.00s/it]\u001b[A\n",
            "Epoch 1, Loss: 1.0000000:  50%|█████     | 5/10 [02:58<03:00, 36.05s/it]\u001b[A\n",
            "Epoch 1, Loss: 1.0000000:  60%|██████    | 6/10 [03:34<02:23, 35.92s/it]\u001b[A\n",
            "Epoch 1, Loss: 1.0000000:  70%|███████   | 7/10 [04:11<01:48, 36.15s/it]\u001b[A\n",
            "Epoch 1, Loss: 1.0000000:  80%|████████  | 8/10 [04:46<01:11, 35.96s/it]\u001b[A\n",
            "Epoch 1, Loss: 1.0000000:  90%|█████████ | 9/10 [05:22<00:36, 36.05s/it]\u001b[A\n",
            "Epoch 1, Loss: 1.0000000: 100%|██████████| 10/10 [05:59<00:00, 36.21s/it]\u001b[A\n",
            "Task   3:  40%|████      | 2/5 [12:00<18:14, 364.86s/it]\n",
            "Epoch 1, Loss: 1.0000000:   0%|          | 0/10 [00:00<?, ?it/s]\u001b[A\n",
            "Epoch 1, Loss: 1.0000000:  10%|█         | 1/10 [00:40<06:07, 40.82s/it]\u001b[A\n",
            "Epoch 1, Loss: 1.0000000:  20%|██        | 2/10 [01:21<05:26, 40.77s/it]\u001b[A\n",
            "Epoch 1, Loss: 1.0000000:  30%|███       | 3/10 [02:02<04:45, 40.85s/it]\u001b[A\n",
            "Epoch 1, Loss: 1.0000000:  40%|████      | 4/10 [02:44<04:07, 41.25s/it]\u001b[A\n",
            "Epoch 1, Loss: 1.0000000:  50%|█████     | 5/10 [03:25<03:26, 41.32s/it]\u001b[A\n",
            "Epoch 1, Loss: 1.0000000:  60%|██████    | 6/10 [04:06<02:43, 40.95s/it]\u001b[A\n",
            "Epoch 1, Loss: 1.0000000:  70%|███████   | 7/10 [04:45<02:01, 40.58s/it]\u001b[A\n",
            "Epoch 1, Loss: 1.0000000:  80%|████████  | 8/10 [05:24<01:19, 39.99s/it]\u001b[A\n",
            "Epoch 1, Loss: 1.0000000:  90%|█████████ | 9/10 [06:03<00:39, 39.77s/it]\u001b[A\n",
            "Epoch 1, Loss: 1.0000000: 100%|██████████| 10/10 [06:42<00:00, 39.50s/it]\u001b[A\n",
            "Task   4:  60%|██████    | 3/5 [19:08<13:07, 393.78s/it]\n",
            "Epoch 1, Loss: 1.0000000:   0%|          | 0/10 [00:00<?, ?it/s]\u001b[A\n",
            "Epoch 1, Loss: 1.0000000:  10%|█         | 1/10 [00:42<06:26, 42.97s/it]\u001b[A\n",
            "Epoch 1, Loss: 1.0000000:  20%|██        | 2/10 [01:25<05:42, 42.82s/it]\u001b[A\n",
            "Epoch 1, Loss: 1.0000000:  30%|███       | 3/10 [02:08<05:00, 42.99s/it]\u001b[A\n",
            "Epoch 1, Loss: 1.0000000:  40%|████      | 4/10 [02:52<04:18, 43.04s/it]\u001b[A\n",
            "Epoch 1, Loss: 1.0000000:  50%|█████     | 5/10 [03:35<03:36, 43.22s/it]\u001b[A\n",
            "Epoch 1, Loss: 1.0000000:  60%|██████    | 6/10 [04:17<02:51, 42.86s/it]\u001b[A\n",
            "Epoch 1, Loss: 1.0000000:  70%|███████   | 7/10 [05:01<02:09, 43.05s/it]\u001b[A\n",
            "Epoch 1, Loss: 1.0000000:  80%|████████  | 8/10 [05:43<01:25, 42.95s/it]\u001b[A\n",
            "Epoch 1, Loss: 1.0000000:  90%|█████████ | 9/10 [06:27<00:43, 43.03s/it]\u001b[A\n",
            "Epoch 1, Loss: 1.0000000: 100%|██████████| 10/10 [07:09<00:00, 42.91s/it]\u001b[A\n",
            "Task   5:  80%|████████  | 4/5 [26:44<06:58, 418.08s/it]\n",
            "Epoch 1, Loss: 1.0000000:   0%|          | 0/10 [00:00<?, ?it/s]\u001b[A\n",
            "Epoch 1, Loss: 1.0000000:  10%|█         | 1/10 [00:46<06:58, 46.49s/it]\u001b[A\n",
            "Epoch 1, Loss: 1.0000000:  20%|██        | 2/10 [01:35<06:21, 47.74s/it]\u001b[A\n",
            "Epoch 1, Loss: 1.0000000:  30%|███       | 3/10 [02:22<05:33, 47.61s/it]\u001b[A\n",
            "Epoch 1, Loss: 1.0000000:  40%|████      | 4/10 [03:10<04:45, 47.64s/it]\u001b[A\n",
            "Epoch 1, Loss: 1.0000000:  50%|█████     | 5/10 [03:57<03:57, 47.54s/it]\u001b[A\n",
            "Epoch 1, Loss: 1.0000000:  60%|██████    | 6/10 [04:44<03:08, 47.24s/it]\u001b[A\n",
            "Epoch 1, Loss: 1.0000000:  70%|███████   | 7/10 [05:31<02:21, 47.13s/it]\u001b[A\n",
            "Epoch 1, Loss: 1.0000000:  80%|████████  | 8/10 [06:16<01:33, 46.71s/it]\u001b[A\n",
            "Epoch 1, Loss: 1.0000000:  90%|█████████ | 9/10 [07:02<00:46, 46.42s/it]\u001b[A\n",
            "Epoch 1, Loss: 1.0000000: 100%|██████████| 10/10 [07:48<00:00, 46.09s/it]\u001b[A\n",
            "Task   6: 100%|██████████| 5/5 [34:57<00:00, 419.43s/it]"
          ]
        },
        {
          "name": "stdout",
          "output_type": "stream",
          "text": [
            "[92.46, 94.63000000000001, 95.63000000000001, 96.21, 96.87, 97.07000000000001, 97.3, 97.50999999999999, 97.50999999999999, 97.68, 96.07, 96.39500000000001, 96.0, 96.41999999999999, 96.11000000000001, 96.13499999999999, 96.44, 96.67, 96.505, 96.415, 92.32000000000001, 90.73666666666665, 92.62666666666667, 92.32000000000001, 92.86, 92.71666666666665, 91.88333333333333, 92.61666666666667, 92.18666666666667, 92.36999999999999, 85.885, 86.835, 84.80750000000002, 86.6775, 85.90500000000002, 85.8825, 85.225, 86.0525, 84.7175, 87.0575, 79.2, 80.21000000000001, 79.75, 80.68799999999999, 81.52, 80.424, 81.562, 81.24, 79.448, 79.366]\n",
            "==================================================================================================\n"
          ]
        },
        {
          "name": "stderr",
          "output_type": "stream",
          "text": [
            "\n"
          ]
        }
      ],
      "source": [
        "# RWalk\n",
        "print(\"RUN Rwalk\")\n",
        "model = Model()\n",
        "model = model.to(device)\n",
        "optimizer = torch.optim.Adam(model.parameters(), lr=args.lr)\n",
        "\n",
        "lll_object=rwalk(model=model, dataloader=None, epsilon=0.1, device=device)\n",
        "lll_lambda=100\n",
        "rwalk_acc = []\n",
        "task_bar = trange(len(train_dataloaders),desc=\"Task   1\")\n",
        "prev_guards = []\n",
        "\n",
        "for train_indexes in task_bar:\n",
        "  model, _, acc_list = train(model, optimizer, train_dataloaders[train_indexes], args.epochs_per_task, lll_object, lll_lambda, evaluate=evaluate,device=device, test_dataloaders=test_dataloaders[:train_indexes+1])\n",
        "  prev_guards.append(lll_object._precision_matrices)\n",
        "  lll_object=rwalk(model=model, dataloader=train_dataloaders[train_indexes], epsilon=0.1, device=device, prev_guards=prev_guards)\n",
        "  optimizer = torch.optim.Adam(model.parameters(), lr=args.lr)\n",
        "  rwalk_acc.extend(acc_list)\n",
        "  task_bar.set_description_str(f\"Task  {train_indexes+2:2}\")\n",
        "\n",
        "# average accuracy in each task per epoch!\n",
        "print(rwalk_acc)\n",
        "print(\"==================================================================================================\")"
      ]
    },
    {
      "cell_type": "markdown",
      "metadata": {
        "id": "wcOnWF1lWFbg"
      },
      "source": [
        "### SCP\n",
        "Sliced Cramer Preservation\n",
        "\n",
        "Pseudo Code:\n",
        "<img src=\"https://i.ibb.co/QJycmNZ/2021-02-18-21-07.png\" width=\"100%\">"
      ]
    },
    {
      "cell_type": "code",
      "execution_count": 21,
      "metadata": {
        "id": "jg_foxDpWFbg"
      },
      "outputs": [],
      "source": [
        "def sample_spherical(npoints, ndim=3):\n",
        "  vec = np.random.randn(ndim, npoints)\n",
        "  vec /= np.linalg.norm(vec, axis=0)\n",
        "  return torch.from_numpy(vec)\n",
        "\n",
        "class scp(object):\n",
        "  \"\"\"\n",
        "  OPEN REVIEW VERSION:\n",
        "  https://openreview.net/forum?id=BJge3TNKwH\n",
        "  \"\"\"\n",
        "  def __init__(self, model: nn.Module, dataloader, L: int, device, prev_guards=[None]):\n",
        "    self.model = model\n",
        "    self.dataloader = dataloader\n",
        "    self.params = {n: p for n, p in self.model.named_parameters() if p.requires_grad}\n",
        "    self._state_parameters = {}\n",
        "    self.L= L\n",
        "    self.device = device\n",
        "    self.previous_guards_list = prev_guards\n",
        "    self._precision_matrices = self.calculate_importance()\n",
        "    for n, p in self.params.items():\n",
        "      self._state_parameters[n] = p.clone().detach()\n",
        "\n",
        "  def calculate_importance(self):\n",
        "    precision_matrices = {}\n",
        "    for n, p in self.params.items():\n",
        "      precision_matrices[n] = p.clone().detach().fill_(0)\n",
        "      for i in range(len(self.previous_guards_list)):\n",
        "        if self.previous_guards_list[i]:\n",
        "          precision_matrices[n] += self.previous_guards_list[i][n]\n",
        "\n",
        "    self.model.eval()\n",
        "    if self.dataloader is not None:\n",
        "      num_data = len(self.dataloader)\n",
        "      for data in self.dataloader:\n",
        "        self.model.zero_grad()\n",
        "        output = self.model(data[0].to(self.device))\n",
        "\n",
        "        mean_vec = output.mean(dim=0)\n",
        "\n",
        "        L_vectors = sample_spherical(self.L, output.shape[-1])\n",
        "        L_vectors = L_vectors.transpose(1,0).to(self.device).float()\n",
        "\n",
        "        total_scalar = 0\n",
        "        for vec in L_vectors:\n",
        "          scalar=torch.matmul(vec, mean_vec)\n",
        "          total_scalar += scalar\n",
        "        total_scalar /= L_vectors.shape[0]\n",
        "        total_scalar.backward()\n",
        "\n",
        "        for n, p in self.model.named_parameters():\n",
        "          precision_matrices[n].data += p.grad**2 / num_data\n",
        "\n",
        "    precision_matrices = {n: p for n, p in precision_matrices.items()}\n",
        "    return precision_matrices\n",
        "\n",
        "  def penalty(self, model: nn.Module):\n",
        "    loss = 0\n",
        "    for n, p in model.named_parameters():\n",
        "      _loss = self._precision_matrices[n] * (p - self._state_parameters[n]) ** 2\n",
        "      loss += _loss.sum()\n",
        "    return loss\n",
        "\n",
        "  def update(self, model):\n",
        "    # do nothing\n",
        "    return"
      ]
    },
    {
      "cell_type": "code",
      "execution_count": null,
      "metadata": {
        "colab": {
          "base_uri": "https://localhost:8080/"
        },
        "id": "3FIQm7F3WFbg",
        "outputId": "628e142b-c9b5-4495-a1c5-82b90b89637f"
      },
      "outputs": [
        {
          "name": "stdout",
          "output_type": "stream",
          "text": [
            "RUN SLICE CRAMER PRESERVATION\n"
          ]
        },
        {
          "name": "stderr",
          "output_type": "stream",
          "text": [
            "Task   1:   0%|          | 0/5 [00:00<?, ?it/s]\n",
            "Epoch 1, Loss: 1.0000000:   0%|          | 0/10 [00:00<?, ?it/s]\u001b[A\n",
            "Epoch 1, Loss: 1.0000000:  10%|█         | 1/10 [00:28<04:19, 28.81s/it]\u001b[A\n",
            "Epoch 1, Loss: 1.0000000:  20%|██        | 2/10 [00:58<03:54, 29.25s/it]\u001b[A\n",
            "Epoch 1, Loss: 1.0000000:  30%|███       | 3/10 [01:27<03:23, 29.07s/it]\u001b[A\n",
            "Epoch 1, Loss: 1.0000000:  40%|████      | 4/10 [01:56<02:56, 29.34s/it]\u001b[A\n",
            "Epoch 1, Loss: 1.0000000:  50%|█████     | 5/10 [02:26<02:26, 29.26s/it]\u001b[A\n",
            "Epoch 1, Loss: 1.0000000:  60%|██████    | 6/10 [02:55<01:57, 29.39s/it]\u001b[A\n",
            "Epoch 1, Loss: 1.0000000:  70%|███████   | 7/10 [03:24<01:27, 29.20s/it]\u001b[A\n",
            "Epoch 1, Loss: 1.0000000:  80%|████████  | 8/10 [03:54<00:58, 29.39s/it]\u001b[A\n",
            "Epoch 1, Loss: 1.0000000:  90%|█████████ | 9/10 [04:23<00:29, 29.30s/it]\u001b[A\n",
            "Epoch 1, Loss: 1.0000000: 100%|██████████| 10/10 [04:52<00:00, 29.36s/it]\u001b[A\n",
            "                                                                         \u001b[A"
          ]
        }
      ],
      "source": [
        "# SCP\n",
        "print(\"RUN SLICE CRAMER PRESERVATION\")\n",
        "model = Model()\n",
        "model = model.to(device)\n",
        "optimizer = torch.optim.Adam(model.parameters(), lr=args.lr)\n",
        "\n",
        "lll_object=scp(model=model, dataloader=None, L=100, device=device)\n",
        "lll_lambda=100\n",
        "scp_acc= []\n",
        "task_bar = trange(len(train_dataloaders),desc=\"Task   1\")\n",
        "prev_guards = []\n",
        "\n",
        "for train_indexes in task_bar:\n",
        "  model, _, acc_list = train(model, optimizer, train_dataloaders[train_indexes], args.epochs_per_task, lll_object, lll_lambda, evaluate=evaluate,device=device, test_dataloaders=test_dataloaders[:train_indexes+1])\n",
        "  prev_guards.append(lll_object._precision_matrices)\n",
        "  lll_object=scp(model=model, dataloader=train_dataloaders[train_indexes], L=100, device=device, prev_guards=prev_guards)\n",
        "  optimizer = torch.optim.Adam(model.parameters(), lr=args.lr)\n",
        "  scp_acc.extend(acc_list)\n",
        "  task_bar.set_description_str(f\"Task  {train_indexes+2:2}\")\n",
        "\n",
        "# average accuracy in each task per epoch!\n",
        "print(scp_acc)\n",
        "print(\"==================================================================================================\")"
      ]
    },
    {
      "cell_type": "markdown",
      "metadata": {
        "id": "h_BaIfqZWFbg"
      },
      "source": [
        "# Plot function"
      ]
    },
    {
      "cell_type": "code",
      "execution_count": null,
      "metadata": {
        "id": "WO0fR_drWFbg"
      },
      "outputs": [],
      "source": [
        "import matplotlib.pyplot as plt\n",
        "def draw_acc(acc_list, label_list):\n",
        "  for acc, label in zip(acc_list, label_list):\n",
        "    plt.plot(acc, marker='o', ls='--', lw=2, markersize=4, label=label)\n",
        "    plt.legend()\n",
        "  plt.savefig('acc_summary.png')\n",
        "  plt.show()\n",
        "\n",
        "acc_list = [baseline_acc, ewc_acc, mas_acc, si_acc, rwalk_acc, scp_acc]\n",
        "label_list = ['baseline', 'EWC', 'MAS', 'SI', 'RWALK', 'SCP']\n",
        "draw_acc(acc_list, label_list)"
      ]
    },
    {
      "attachments": {},
      "cell_type": "markdown",
      "metadata": {},
      "source": [
        "P.S: Since no baseline was included in this homework, and this homework was graded by questions on Gradescope, which is not public to us, we decided to combine the code and the report together in the jupyter notebook."
      ]
    }
  ],
  "metadata": {
    "accelerator": "GPU",
    "colab": {
      "gpuType": "T4",
      "provenance": []
    },
    "kernelspec": {
      "display_name": "Python 3",
      "name": "python3"
    },
    "language_info": {
      "codemirror_mode": {
        "name": "ipython",
        "version": 3
      },
      "file_extension": ".py",
      "mimetype": "text/x-python",
      "name": "python",
      "nbconvert_exporter": "python",
      "pygments_lexer": "ipython3",
      "version": "3.6.4"
    }
  },
  "nbformat": 4,
  "nbformat_minor": 0
}
