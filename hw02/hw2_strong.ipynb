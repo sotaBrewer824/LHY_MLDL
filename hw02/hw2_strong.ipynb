{
  "cells": [
    {
      "cell_type": "markdown",
      "metadata": {
        "id": "OYlaRwNu7ojq"
      },
      "source": [
        "# **Homework 2: Phoneme Classification**\n"
      ]
    },
    {
      "cell_type": "markdown",
      "source": [
        "Objectives:\n",
        "* Solve a classification problem with deep neural networks (DNNs).\n",
        "* Understand recursive neural networks (RNNs).\n",
        "\n",
        "If you have any questions, please contact the TAs via TA hours, NTU COOL, or email to mlta-2023-spring@googlegroups.com"
      ],
      "metadata": {
        "id": "A7DRC5V7_8A5"
      }
    },
    {
      "cell_type": "markdown",
      "metadata": {
        "id": "KVUGfWTo7_Oj"
      },
      "source": [
        "# Download Data\n",
        "Download data from google drive, then unzip it.\n",
        "\n",
        "You should have\n",
        "- `libriphone/train_split.txt`: training metadata\n",
        "- `libriphone/train_labels`: training labels\n",
        "- `libriphone/test_split.txt`: testing metadata\n",
        "- `libriphone/feat/train/*.pt`: training feature\n",
        "- `libriphone/feat/test/*.pt`:  testing feature\n",
        "\n",
        "after running the following block.\n",
        "\n",
        "> **Notes: if the google drive link is dead, you can download the data directly from [Kaggle](https://www.kaggle.com/c/ml2023spring-hw2/data) and upload it to the workspace.**\n"
      ]
    },
    {
      "cell_type": "code",
      "execution_count": 1,
      "metadata": {
        "id": "OzkiMEcC3Foq",
        "outputId": "0747f023-2300-4420-e4ca-bd75d664cdef",
        "colab": {
          "base_uri": "https://localhost:8080/"
        }
      },
      "outputs": [
        {
          "output_type": "stream",
          "name": "stdout",
          "text": [
            "Requirement already satisfied: gdown in /usr/local/lib/python3.10/dist-packages (4.7.3)\n",
            "Collecting gdown\n",
            "  Downloading gdown-5.1.0-py3-none-any.whl (17 kB)\n",
            "Requirement already satisfied: beautifulsoup4 in /usr/local/lib/python3.10/dist-packages (from gdown) (4.12.3)\n",
            "Requirement already satisfied: filelock in /usr/local/lib/python3.10/dist-packages (from gdown) (3.13.1)\n",
            "Requirement already satisfied: requests[socks] in /usr/local/lib/python3.10/dist-packages (from gdown) (2.31.0)\n",
            "Requirement already satisfied: tqdm in /usr/local/lib/python3.10/dist-packages (from gdown) (4.66.2)\n",
            "Requirement already satisfied: soupsieve>1.2 in /usr/local/lib/python3.10/dist-packages (from beautifulsoup4->gdown) (2.5)\n",
            "Requirement already satisfied: charset-normalizer<4,>=2 in /usr/local/lib/python3.10/dist-packages (from requests[socks]->gdown) (3.3.2)\n",
            "Requirement already satisfied: idna<4,>=2.5 in /usr/local/lib/python3.10/dist-packages (from requests[socks]->gdown) (3.6)\n",
            "Requirement already satisfied: urllib3<3,>=1.21.1 in /usr/local/lib/python3.10/dist-packages (from requests[socks]->gdown) (2.0.7)\n",
            "Requirement already satisfied: certifi>=2017.4.17 in /usr/local/lib/python3.10/dist-packages (from requests[socks]->gdown) (2024.2.2)\n",
            "Requirement already satisfied: PySocks!=1.5.7,>=1.5.6 in /usr/local/lib/python3.10/dist-packages (from requests[socks]->gdown) (1.7.1)\n",
            "Installing collected packages: gdown\n",
            "  Attempting uninstall: gdown\n",
            "    Found existing installation: gdown 4.7.3\n",
            "    Uninstalling gdown-4.7.3:\n",
            "      Successfully uninstalled gdown-4.7.3\n",
            "Successfully installed gdown-5.1.0\n",
            "/usr/local/lib/python3.10/dist-packages/gdown/__main__.py:132: FutureWarning: Option `--id` was deprecated in version 4.3.1 and will be removed in 5.0. You don't need to pass it anymore to use a file ID.\n",
            "  warnings.warn(\n",
            "Downloading...\n",
            "From (original): https://drive.google.com/uc?id=1qzCRnywKh30mTbWUEjXuNT2isOCAPdO1\n",
            "From (redirected): https://drive.google.com/uc?id=1qzCRnywKh30mTbWUEjXuNT2isOCAPdO1&confirm=t&uuid=0dc532f9-c203-4a06-8e34-f661932494da\n",
            "To: /content/libriphone.zip\n",
            "100% 384M/384M [00:08<00:00, 47.0MB/s]\n",
            "feat  test_split.txt  train_labels.txt\ttrain_split.txt\n"
          ]
        }
      ],
      "source": [
        "!pip install --upgrade gdown\n",
        "\n",
        "# Main link\n",
        "# !gdown --id '1N1eVIDe9hKM5uiNRGmifBlwSDGiVXPJe' --output libriphone.zip\n",
        "!gdown --id '1qzCRnywKh30mTbWUEjXuNT2isOCAPdO1' --output libriphone.zip\n",
        "\n",
        "!unzip -q libriphone.zip\n",
        "!ls libriphone"
      ]
    },
    {
      "cell_type": "markdown",
      "source": [
        "# Some Utility Functions\n",
        "**Fixes random number generator seeds for reproducibility.**"
      ],
      "metadata": {
        "id": "pADUiYODJE1O"
      }
    },
    {
      "cell_type": "code",
      "source": [
        "import numpy as np\n",
        "import torch\n",
        "import random\n",
        "\n",
        "def same_seeds(seed):\n",
        "    random.seed(seed)\n",
        "    np.random.seed(seed)\n",
        "    torch.manual_seed(seed)\n",
        "    if torch.cuda.is_available():\n",
        "        torch.cuda.manual_seed(seed)\n",
        "        torch.cuda.manual_seed_all(seed)\n",
        "    torch.backends.cudnn.benchmark = False\n",
        "    torch.backends.cudnn.deterministic = True"
      ],
      "metadata": {
        "id": "BsZKgBZQJjaE"
      },
      "execution_count": 2,
      "outputs": []
    },
    {
      "cell_type": "markdown",
      "metadata": {
        "id": "_L_4anls8Drv"
      },
      "source": [
        "**Helper functions to pre-process the training data from raw MFCC features of each utterance.**\n",
        "\n",
        "A phoneme may span several frames and is dependent to past and future frames. \\\n",
        "Hence we concatenate neighboring phonemes for training to achieve higher accuracy. The **concat_feat** function concatenates past and future k frames (total 2k+1 = n frames), and we predict the center frame.\n",
        "\n",
        "Feel free to modify the data preprocess functions, but **do not drop any frame** (if you modify the functions, remember to check that the number of frames are the same as mentioned in the slides)"
      ]
    },
    {
      "cell_type": "code",
      "execution_count": 3,
      "metadata": {
        "id": "IJjLT8em-y9G"
      },
      "outputs": [],
      "source": [
        "import os\n",
        "import torch\n",
        "from tqdm import tqdm\n",
        "\n",
        "def load_feat(path):\n",
        "    feat = torch.load(path)\n",
        "    return feat\n",
        "\n",
        "def shift(x, n):\n",
        "    if n < 0:\n",
        "        left = x[0].repeat(-n, 1)\n",
        "        right = x[:n]\n",
        "    elif n > 0:\n",
        "        right = x[-1].repeat(n, 1)\n",
        "        left = x[n:]\n",
        "    else:\n",
        "        return x\n",
        "\n",
        "    return torch.cat((left, right), dim=0)\n",
        "\n",
        "def concat_feat(x, concat_n):\n",
        "    # 一个Phoneme不会只有一个frame（帧），训练时接上前后的frame会得到较好的结果\n",
        "    # 在这里的处理方法是前后接对称数量，例如concat_n = 11，则前后都接5\n",
        "    assert concat_n % 2 == 1 # n must be odd\n",
        "    if concat_n < 2:\n",
        "        return x\n",
        "    seq_len, feature_dim = x.size(0), x.size(1)\n",
        "    x = x.repeat(1, concat_n)\n",
        "    x = x.view(seq_len, concat_n, feature_dim).permute(1, 0, 2) # concat_n, seq_len, feature_dim\n",
        "    mid = (concat_n // 2)\n",
        "    for r_idx in range(1, mid+1):\n",
        "        x[mid + r_idx, :] = shift(x[mid + r_idx], r_idx)\n",
        "        x[mid - r_idx, :] = shift(x[mid - r_idx], -r_idx)\n",
        "\n",
        "    return x.permute(1, 0, 2).view(seq_len, concat_n * feature_dim)\n",
        "\n",
        "def preprocess_data(split, feat_dir, phone_path, concat_nframes, train_ratio=0.8, random_seed=1213):\n",
        "    class_num = 41 # NOTE: pre-computed, should not need change\n",
        "\n",
        "    if split == 'train' or split == 'val':\n",
        "        mode = 'train'\n",
        "    elif split == 'test':\n",
        "        mode = 'test'\n",
        "    else:\n",
        "        raise ValueError('Invalid \\'split\\' argument for dataset: PhoneDataset!')\n",
        "\n",
        "    label_dict = {}\n",
        "    if mode == 'train':\n",
        "        for line in open(os.path.join(phone_path, f'{mode}_labels.txt')).readlines():\n",
        "            line = line.strip('\\n').split(' ')\n",
        "            label_dict[line[0]] = [int(p) for p in line[1:]]\n",
        "\n",
        "        # split training and validation data\n",
        "        usage_list = open(os.path.join(phone_path, 'train_split.txt')).readlines()\n",
        "        random.seed(random_seed)\n",
        "        random.shuffle(usage_list)\n",
        "        train_len = int(len(usage_list) * train_ratio)\n",
        "        usage_list = usage_list[:train_len] if split == 'train' else usage_list[train_len:]\n",
        "\n",
        "    elif mode == 'test':\n",
        "        usage_list = open(os.path.join(phone_path, 'test_split.txt')).readlines()\n",
        "\n",
        "    usage_list = [line.strip('\\n') for line in usage_list]\n",
        "    print('[Dataset] - # phone classes: ' + str(class_num) + ', number of utterances for ' + split + ': ' + str(len(usage_list)))\n",
        "\n",
        "    max_len = 3000000\n",
        "    X = torch.empty(max_len, 39 * concat_nframes)\n",
        "    if mode == 'train':\n",
        "        y = torch.empty(max_len, dtype=torch.long)\n",
        "\n",
        "    idx = 0\n",
        "    for i, fname in tqdm(enumerate(usage_list)):\n",
        "        feat = load_feat(os.path.join(feat_dir, mode, f'{fname}.pt'))\n",
        "        cur_len = len(feat)\n",
        "        feat = concat_feat(feat, concat_nframes)\n",
        "        if mode == 'train':\n",
        "          label = torch.LongTensor(label_dict[fname])\n",
        "\n",
        "        X[idx: idx + cur_len, :] = feat\n",
        "        if mode == 'train':\n",
        "          y[idx: idx + cur_len] = label\n",
        "\n",
        "        idx += cur_len\n",
        "\n",
        "    X = X[:idx, :]\n",
        "    if mode == 'train':\n",
        "      y = y[:idx]\n",
        "\n",
        "    print(f'[INFO] {split} set')\n",
        "    print(X.shape)\n",
        "    if mode == 'train':\n",
        "      print(y.shape)\n",
        "      return X, y\n",
        "    else:\n",
        "      return X\n"
      ]
    },
    {
      "cell_type": "markdown",
      "metadata": {
        "id": "us5XW_x6udZQ"
      },
      "source": [
        "# Dataset"
      ]
    },
    {
      "cell_type": "code",
      "execution_count": 4,
      "metadata": {
        "id": "Fjf5EcmJtf4e"
      },
      "outputs": [],
      "source": [
        "import torch\n",
        "from torch.utils.data import Dataset\n",
        "\n",
        "class LibriDataset(Dataset):\n",
        "    def __init__(self, X, y=None):\n",
        "        self.data = X\n",
        "        if y is not None:\n",
        "            self.label = torch.LongTensor(y)\n",
        "        else:\n",
        "            self.label = None\n",
        "\n",
        "    def __getitem__(self, idx):\n",
        "        if self.label is not None:\n",
        "            return self.data[idx], self.label[idx]\n",
        "        else:\n",
        "            return self.data[idx]\n",
        "\n",
        "    def __len__(self):\n",
        "        return len(self.data)\n"
      ]
    },
    {
      "cell_type": "markdown",
      "metadata": {
        "id": "IRqKNvNZwe3V"
      },
      "source": [
        "# Model\n",
        "Feel free to modify the structure of the model."
      ]
    },
    {
      "cell_type": "code",
      "execution_count": 5,
      "metadata": {
        "id": "Bg-GRd7ywdrL"
      },
      "outputs": [],
      "source": [
        "import torch.nn as nn\n",
        "\n",
        "class BasicBlock(nn.Module):\n",
        "    def __init__(self, input_dim, output_dim):\n",
        "        super(BasicBlock, self).__init__()\n",
        "\n",
        "        # TODO: apply batch normalization and dropout for strong baseline.\n",
        "        # Reference: https://pytorch.org/docs/stable/generated/torch.nn.BatchNorm1d.html (batch normalization)\n",
        "        #       https://pytorch.org/docs/stable/generated/torch.nn.Dropout.html (dropout)\n",
        "        self.block = nn.Sequential(\n",
        "            nn.Linear(input_dim, output_dim),\n",
        "            nn.BatchNorm1d(output_dim),\n",
        "            nn.LeakyReLU(),\n",
        "            nn.Dropout(0.3)\n",
        "        )\n",
        "\n",
        "    def forward(self, x):\n",
        "        x = self.block(x)\n",
        "        return x\n",
        "\n",
        "\n",
        "class Classifier(nn.Module):\n",
        "    def __init__(self, input_dim, output_dim=41, hidden_layers=1, hidden_dim=256):\n",
        "        super(Classifier, self).__init__()\n",
        "\n",
        "        self.fc = nn.Sequential(\n",
        "            BasicBlock(input_dim, hidden_dim),\n",
        "            *[BasicBlock(hidden_dim, hidden_dim) for _ in range(hidden_layers)],\n",
        "            nn.Linear(hidden_dim, output_dim)\n",
        "        )\n",
        "\n",
        "    def forward(self, x):\n",
        "        x = self.fc(x)\n",
        "        return x"
      ]
    },
    {
      "cell_type": "markdown",
      "source": [
        "# Hyper-parameters"
      ],
      "metadata": {
        "id": "TlIq8JeqvvHC"
      }
    },
    {
      "cell_type": "code",
      "source": [
        "# data prarameters\n",
        "# TODO: change the value of \"concat_nframes\" for medium baseline\n",
        "concat_nframes = 23   # the number of frames to concat with, n must be odd (total 2k+1 = n frames)\n",
        "train_ratio = 0.8   # the ratio of data used for training, the rest will be used for validation\n",
        "\n",
        "# training parameters\n",
        "seed = 1213          # random seed\n",
        "batch_size = 1024        # batch size\n",
        "num_epoch = 100         # the number of training epoch\n",
        "learning_rate = 2e-4      # learning rate\n",
        "weight_decay = 1e-4\n",
        "model_path = './model.ckpt'  # the path where the checkpoint will be saved\n",
        "\n",
        "# model parameters\n",
        "# TODO: change the value of \"hidden_layers\" or \"hidden_dim\" for medium baseline\n",
        "input_dim = 39 * concat_nframes  # the input dim of the model, you should not change the value\n",
        "hidden_layers = 4          # the number of hidden layers\n",
        "hidden_dim = 1024           # the hidden dim\n",
        "\n",
        "# 提前输出模型参数数量，以便调整网络架构\n",
        "total_params = (\n",
        "    (input_dim + 1) * hidden_dim +\n",
        "    (hidden_dim + 1) * hidden_dim * (hidden_layers - 1) +\n",
        "    (hidden_dim + 1) * 41\n",
        ")\n",
        "print(f'Total params: {total_params}')\n",
        "\n",
        "def get_dest_dim(input_dim, output_dim, hidden_layers, dest_hidden_layers, hidden_dim):\n",
        "    '''获取目标网络隐藏层的维度（总参数量接近于原网络）'''\n",
        "    # 计算一元二次方程的系数 a,b,c\n",
        "    a = dest_hidden_layers - 1  # a = l_d - 1\n",
        "    b = input_dim + output_dim + dest_hidden_layers  #  b = i + o + l_d\n",
        "    c = - (hidden_layers - 1) * (hidden_dim ** 2) - (input_dim + output_dim + hidden_layers) * hidden_dim  # c = - (l - 1) * (d ** 2) - (i + o + l) * d\n",
        "\n",
        "    # 计算分子中的平方根部分，即 b^2-4ac\n",
        "    sqrt_part = (b ** 2) - 4 * a * c\n",
        "\n",
        "    # 计算两个解，一个是加号，一个是减号，即(-b±√(b^2-4ac))/(2a)\n",
        "    d_d_plus = (-b + sqrt_part**(0.5)) / (2 * a)\n",
        "    d_d_minus = (-b - sqrt_part**(0.5)) / (2 * a)\n",
        "\n",
        "    # 返回两个解的元组\n",
        "    return (d_d_plus, d_d_minus)\n",
        "\n",
        "# 设置你想要的目标网络隐藏层数量\n",
        "dest_hidden_layers = 3\n",
        "\n",
        "# 获取对应的维数\n",
        "dest_hidden_dim, _ = get_dest_dim(input_dim, 41, hidden_layers, dest_hidden_layers, hidden_dim)\n",
        "print(f\"若将隐藏层网络层数改为: {dest_hidden_layers}，则维数应当改为: {round(dest_hidden_dim)}\",)"
      ],
      "metadata": {
        "id": "iIHn79Iav1ri",
        "colab": {
          "base_uri": "https://localhost:8080/"
        },
        "outputId": "7962abfa-92fd-4a72-f9c8-1b051041003b"
      },
      "execution_count": 6,
      "outputs": [
        {
          "output_type": "stream",
          "name": "stdout",
          "text": [
            "Total params: 4110377\n",
            "若将隐藏层网络层数改为: 3，则维数应当改为: 1218\n"
          ]
        }
      ]
    },
    {
      "cell_type": "markdown",
      "source": [
        "# Dataloader"
      ],
      "metadata": {
        "id": "IIUFRgG5yoDn"
      }
    },
    {
      "cell_type": "code",
      "source": [
        "from torch.utils.data import DataLoader\n",
        "import gc\n",
        "\n",
        "same_seeds(seed)\n",
        "device = 'cuda' if torch.cuda.is_available() else 'cpu'\n",
        "print(f'DEVICE: {device}')\n",
        "\n",
        "# preprocess data\n",
        "train_X, train_y = preprocess_data(split='train', feat_dir='./libriphone/feat', phone_path='./libriphone', concat_nframes=concat_nframes, train_ratio=train_ratio, random_seed=seed)\n",
        "val_X, val_y = preprocess_data(split='val', feat_dir='./libriphone/feat', phone_path='./libriphone', concat_nframes=concat_nframes, train_ratio=train_ratio, random_seed=seed)\n",
        "\n",
        "# get dataset\n",
        "train_set = LibriDataset(train_X, train_y)\n",
        "val_set = LibriDataset(val_X, val_y)\n",
        "\n",
        "# remove raw feature to save memory\n",
        "del train_X, train_y, val_X, val_y\n",
        "gc.collect()\n",
        "\n",
        "# get dataloader\n",
        "train_loader = DataLoader(train_set, batch_size=batch_size, shuffle=True)\n",
        "val_loader = DataLoader(val_set, batch_size=batch_size, shuffle=False)"
      ],
      "metadata": {
        "id": "c1zI3v5jyrDn",
        "colab": {
          "base_uri": "https://localhost:8080/"
        },
        "outputId": "9c3f04e3-2160-4bf2-fbd0-8b29699a2d13"
      },
      "execution_count": 7,
      "outputs": [
        {
          "output_type": "stream",
          "name": "stdout",
          "text": [
            "DEVICE: cuda\n",
            "[Dataset] - # phone classes: 41, number of utterances for train: 2743\n"
          ]
        },
        {
          "output_type": "stream",
          "name": "stderr",
          "text": [
            "2743it [00:10, 272.29it/s]\n"
          ]
        },
        {
          "output_type": "stream",
          "name": "stdout",
          "text": [
            "[INFO] train set\n",
            "torch.Size([1694451, 897])\n",
            "torch.Size([1694451])\n",
            "[Dataset] - # phone classes: 41, number of utterances for val: 686\n"
          ]
        },
        {
          "output_type": "stream",
          "name": "stderr",
          "text": [
            "686it [00:02, 303.14it/s]\n"
          ]
        },
        {
          "output_type": "stream",
          "name": "stdout",
          "text": [
            "[INFO] val set\n",
            "torch.Size([422343, 897])\n",
            "torch.Size([422343])\n"
          ]
        }
      ]
    },
    {
      "cell_type": "markdown",
      "source": [
        "# Training"
      ],
      "metadata": {
        "id": "pwWH1KIqzxEr"
      }
    },
    {
      "cell_type": "code",
      "execution_count": 8,
      "metadata": {
        "id": "CdMWsBs7zzNs",
        "colab": {
          "base_uri": "https://localhost:8080/"
        },
        "outputId": "e545d1b0-c298-4049-cc2e-fe4d5918ea16"
      },
      "outputs": [
        {
          "output_type": "stream",
          "name": "stderr",
          "text": [
            "100%|██████████| 1655/1655 [00:33<00:00, 48.79it/s]\n",
            "100%|██████████| 413/413 [00:05<00:00, 78.53it/s]\n"
          ]
        },
        {
          "output_type": "stream",
          "name": "stdout",
          "text": [
            "[001/100] Train Acc: 0.56128 Loss: 1.45582 | Val Acc: 0.64662 loss: 1.13417\n",
            "saving model with acc 0.64662\n"
          ]
        },
        {
          "output_type": "stream",
          "name": "stderr",
          "text": [
            "100%|██████████| 1655/1655 [00:33<00:00, 49.41it/s]\n",
            "100%|██████████| 413/413 [00:04<00:00, 84.92it/s]\n"
          ]
        },
        {
          "output_type": "stream",
          "name": "stdout",
          "text": [
            "[002/100] Train Acc: 0.63037 Loss: 1.18895 | Val Acc: 0.67416 loss: 1.03557\n",
            "saving model with acc 0.67416\n"
          ]
        },
        {
          "output_type": "stream",
          "name": "stderr",
          "text": [
            "100%|██████████| 1655/1655 [00:33<00:00, 49.44it/s]\n",
            "100%|██████████| 413/413 [00:04<00:00, 92.38it/s]\n"
          ]
        },
        {
          "output_type": "stream",
          "name": "stdout",
          "text": [
            "[003/100] Train Acc: 0.65355 Loss: 1.10681 | Val Acc: 0.68930 loss: 0.98310\n",
            "saving model with acc 0.68930\n"
          ]
        },
        {
          "output_type": "stream",
          "name": "stderr",
          "text": [
            "100%|██████████| 1655/1655 [00:33<00:00, 49.06it/s]\n",
            "100%|██████████| 413/413 [00:04<00:00, 84.48it/s]\n"
          ]
        },
        {
          "output_type": "stream",
          "name": "stdout",
          "text": [
            "[004/100] Train Acc: 0.66858 Loss: 1.05373 | Val Acc: 0.69986 loss: 0.94412\n",
            "saving model with acc 0.69986\n"
          ]
        },
        {
          "output_type": "stream",
          "name": "stderr",
          "text": [
            "100%|██████████| 1655/1655 [00:33<00:00, 49.44it/s]\n",
            "100%|██████████| 413/413 [00:05<00:00, 74.22it/s]\n"
          ]
        },
        {
          "output_type": "stream",
          "name": "stdout",
          "text": [
            "[005/100] Train Acc: 0.67941 Loss: 1.01442 | Val Acc: 0.70796 loss: 0.91824\n",
            "saving model with acc 0.70796\n"
          ]
        },
        {
          "output_type": "stream",
          "name": "stderr",
          "text": [
            "100%|██████████| 1655/1655 [00:33<00:00, 49.00it/s]\n",
            "100%|██████████| 413/413 [00:05<00:00, 81.12it/s]\n"
          ]
        },
        {
          "output_type": "stream",
          "name": "stdout",
          "text": [
            "[006/100] Train Acc: 0.68894 Loss: 0.98229 | Val Acc: 0.71461 loss: 0.89773\n",
            "saving model with acc 0.71461\n"
          ]
        },
        {
          "output_type": "stream",
          "name": "stderr",
          "text": [
            "100%|██████████| 1655/1655 [00:33<00:00, 48.94it/s]\n",
            "100%|██████████| 413/413 [00:04<00:00, 83.94it/s]\n"
          ]
        },
        {
          "output_type": "stream",
          "name": "stdout",
          "text": [
            "[007/100] Train Acc: 0.69623 Loss: 0.95646 | Val Acc: 0.71835 loss: 0.88381\n",
            "saving model with acc 0.71835\n"
          ]
        },
        {
          "output_type": "stream",
          "name": "stderr",
          "text": [
            "100%|██████████| 1655/1655 [00:34<00:00, 48.62it/s]\n",
            "100%|██████████| 413/413 [00:04<00:00, 84.58it/s]\n"
          ]
        },
        {
          "output_type": "stream",
          "name": "stdout",
          "text": [
            "[008/100] Train Acc: 0.70319 Loss: 0.93311 | Val Acc: 0.72260 loss: 0.86960\n",
            "saving model with acc 0.72260\n"
          ]
        },
        {
          "output_type": "stream",
          "name": "stderr",
          "text": [
            "100%|██████████| 1655/1655 [00:33<00:00, 48.77it/s]\n",
            "100%|██████████| 413/413 [00:05<00:00, 76.17it/s]\n"
          ]
        },
        {
          "output_type": "stream",
          "name": "stdout",
          "text": [
            "[009/100] Train Acc: 0.70845 Loss: 0.91465 | Val Acc: 0.72473 loss: 0.86302\n",
            "saving model with acc 0.72473\n"
          ]
        },
        {
          "output_type": "stream",
          "name": "stderr",
          "text": [
            "100%|██████████| 1655/1655 [00:34<00:00, 48.36it/s]\n",
            "100%|██████████| 413/413 [00:04<00:00, 86.34it/s]\n"
          ]
        },
        {
          "output_type": "stream",
          "name": "stdout",
          "text": [
            "[010/100] Train Acc: 0.71330 Loss: 0.89681 | Val Acc: 0.72803 loss: 0.85240\n",
            "saving model with acc 0.72803\n"
          ]
        },
        {
          "output_type": "stream",
          "name": "stderr",
          "text": [
            "100%|██████████| 1655/1655 [00:34<00:00, 48.48it/s]\n",
            "100%|██████████| 413/413 [00:04<00:00, 82.77it/s]\n"
          ]
        },
        {
          "output_type": "stream",
          "name": "stdout",
          "text": [
            "[011/100] Train Acc: 0.71806 Loss: 0.88046 | Val Acc: 0.73091 loss: 0.84335\n",
            "saving model with acc 0.73091\n"
          ]
        },
        {
          "output_type": "stream",
          "name": "stderr",
          "text": [
            "100%|██████████| 1655/1655 [00:34<00:00, 48.33it/s]\n",
            "100%|██████████| 413/413 [00:05<00:00, 76.61it/s]\n"
          ]
        },
        {
          "output_type": "stream",
          "name": "stdout",
          "text": [
            "[012/100] Train Acc: 0.72198 Loss: 0.86717 | Val Acc: 0.73356 loss: 0.83443\n",
            "saving model with acc 0.73356\n"
          ]
        },
        {
          "output_type": "stream",
          "name": "stderr",
          "text": [
            "100%|██████████| 1655/1655 [00:34<00:00, 48.43it/s]\n",
            "100%|██████████| 413/413 [00:05<00:00, 78.09it/s]\n"
          ]
        },
        {
          "output_type": "stream",
          "name": "stdout",
          "text": [
            "[013/100] Train Acc: 0.72574 Loss: 0.85339 | Val Acc: 0.73646 loss: 0.82815\n",
            "saving model with acc 0.73646\n"
          ]
        },
        {
          "output_type": "stream",
          "name": "stderr",
          "text": [
            "100%|██████████| 1655/1655 [00:34<00:00, 47.96it/s]\n",
            "100%|██████████| 413/413 [00:04<00:00, 87.25it/s]\n"
          ]
        },
        {
          "output_type": "stream",
          "name": "stdout",
          "text": [
            "[014/100] Train Acc: 0.72941 Loss: 0.84267 | Val Acc: 0.73679 loss: 0.82564\n",
            "saving model with acc 0.73679\n"
          ]
        },
        {
          "output_type": "stream",
          "name": "stderr",
          "text": [
            "100%|██████████| 1655/1655 [00:34<00:00, 48.02it/s]\n",
            "100%|██████████| 413/413 [00:05<00:00, 77.70it/s]\n"
          ]
        },
        {
          "output_type": "stream",
          "name": "stdout",
          "text": [
            "[015/100] Train Acc: 0.73194 Loss: 0.83277 | Val Acc: 0.73822 loss: 0.82186\n",
            "saving model with acc 0.73822\n"
          ]
        },
        {
          "output_type": "stream",
          "name": "stderr",
          "text": [
            "100%|██████████| 1655/1655 [00:34<00:00, 48.36it/s]\n",
            "100%|██████████| 413/413 [00:05<00:00, 74.69it/s]\n"
          ]
        },
        {
          "output_type": "stream",
          "name": "stdout",
          "text": [
            "[016/100] Train Acc: 0.73495 Loss: 0.82278 | Val Acc: 0.74045 loss: 0.81686\n",
            "saving model with acc 0.74045\n"
          ]
        },
        {
          "output_type": "stream",
          "name": "stderr",
          "text": [
            "100%|██████████| 1655/1655 [00:34<00:00, 48.05it/s]\n",
            "100%|██████████| 413/413 [00:04<00:00, 83.89it/s]\n"
          ]
        },
        {
          "output_type": "stream",
          "name": "stdout",
          "text": [
            "[017/100] Train Acc: 0.73720 Loss: 0.81484 | Val Acc: 0.74013 loss: 0.81888\n"
          ]
        },
        {
          "output_type": "stream",
          "name": "stderr",
          "text": [
            "100%|██████████| 1655/1655 [00:34<00:00, 48.09it/s]\n",
            "100%|██████████| 413/413 [00:05<00:00, 79.60it/s]\n"
          ]
        },
        {
          "output_type": "stream",
          "name": "stdout",
          "text": [
            "[018/100] Train Acc: 0.73875 Loss: 0.80770 | Val Acc: 0.74114 loss: 0.81345\n",
            "saving model with acc 0.74114\n"
          ]
        },
        {
          "output_type": "stream",
          "name": "stderr",
          "text": [
            "100%|██████████| 1655/1655 [00:34<00:00, 48.58it/s]\n",
            "100%|██████████| 413/413 [00:05<00:00, 70.73it/s]\n"
          ]
        },
        {
          "output_type": "stream",
          "name": "stdout",
          "text": [
            "[019/100] Train Acc: 0.74140 Loss: 0.80052 | Val Acc: 0.74144 loss: 0.81388\n",
            "saving model with acc 0.74144\n"
          ]
        },
        {
          "output_type": "stream",
          "name": "stderr",
          "text": [
            "100%|██████████| 1655/1655 [00:34<00:00, 47.87it/s]\n",
            "100%|██████████| 413/413 [00:04<00:00, 86.39it/s]\n"
          ]
        },
        {
          "output_type": "stream",
          "name": "stdout",
          "text": [
            "[020/100] Train Acc: 0.74297 Loss: 0.79333 | Val Acc: 0.74301 loss: 0.81033\n",
            "saving model with acc 0.74301\n"
          ]
        },
        {
          "output_type": "stream",
          "name": "stderr",
          "text": [
            "100%|██████████| 1655/1655 [00:34<00:00, 47.88it/s]\n",
            "100%|██████████| 413/413 [00:04<00:00, 83.65it/s]\n"
          ]
        },
        {
          "output_type": "stream",
          "name": "stdout",
          "text": [
            "[021/100] Train Acc: 0.74460 Loss: 0.78817 | Val Acc: 0.74266 loss: 0.81048\n"
          ]
        },
        {
          "output_type": "stream",
          "name": "stderr",
          "text": [
            "100%|██████████| 1655/1655 [00:34<00:00, 47.72it/s]\n",
            "100%|██████████| 413/413 [00:05<00:00, 72.10it/s]\n"
          ]
        },
        {
          "output_type": "stream",
          "name": "stdout",
          "text": [
            "[022/100] Train Acc: 0.74632 Loss: 0.78294 | Val Acc: 0.74343 loss: 0.80794\n",
            "saving model with acc 0.74343\n"
          ]
        },
        {
          "output_type": "stream",
          "name": "stderr",
          "text": [
            "100%|██████████| 1655/1655 [00:34<00:00, 47.81it/s]\n",
            "100%|██████████| 413/413 [00:05<00:00, 79.88it/s]\n"
          ]
        },
        {
          "output_type": "stream",
          "name": "stdout",
          "text": [
            "[023/100] Train Acc: 0.74751 Loss: 0.77731 | Val Acc: 0.74474 loss: 0.80413\n",
            "saving model with acc 0.74474\n"
          ]
        },
        {
          "output_type": "stream",
          "name": "stderr",
          "text": [
            "100%|██████████| 1655/1655 [00:34<00:00, 47.79it/s]\n",
            "100%|██████████| 413/413 [00:04<00:00, 83.22it/s]\n"
          ]
        },
        {
          "output_type": "stream",
          "name": "stdout",
          "text": [
            "[024/100] Train Acc: 0.74897 Loss: 0.77218 | Val Acc: 0.74454 loss: 0.80667\n"
          ]
        },
        {
          "output_type": "stream",
          "name": "stderr",
          "text": [
            "100%|██████████| 1655/1655 [00:34<00:00, 48.13it/s]\n",
            "100%|██████████| 413/413 [00:05<00:00, 71.09it/s]\n"
          ]
        },
        {
          "output_type": "stream",
          "name": "stdout",
          "text": [
            "[025/100] Train Acc: 0.75036 Loss: 0.76784 | Val Acc: 0.74562 loss: 0.80423\n",
            "saving model with acc 0.74562\n"
          ]
        },
        {
          "output_type": "stream",
          "name": "stderr",
          "text": [
            "100%|██████████| 1655/1655 [00:34<00:00, 47.86it/s]\n",
            "100%|██████████| 413/413 [00:04<00:00, 86.45it/s]\n"
          ]
        },
        {
          "output_type": "stream",
          "name": "stdout",
          "text": [
            "[026/100] Train Acc: 0.75193 Loss: 0.76396 | Val Acc: 0.74601 loss: 0.80323\n",
            "saving model with acc 0.74601\n"
          ]
        },
        {
          "output_type": "stream",
          "name": "stderr",
          "text": [
            "100%|██████████| 1655/1655 [00:34<00:00, 47.98it/s]\n",
            "100%|██████████| 413/413 [00:04<00:00, 88.25it/s]\n"
          ]
        },
        {
          "output_type": "stream",
          "name": "stdout",
          "text": [
            "[027/100] Train Acc: 0.75268 Loss: 0.76034 | Val Acc: 0.74558 loss: 0.80426\n"
          ]
        },
        {
          "output_type": "stream",
          "name": "stderr",
          "text": [
            "100%|██████████| 1655/1655 [00:34<00:00, 47.90it/s]\n",
            "100%|██████████| 413/413 [00:05<00:00, 73.10it/s]\n"
          ]
        },
        {
          "output_type": "stream",
          "name": "stdout",
          "text": [
            "[028/100] Train Acc: 0.75408 Loss: 0.75627 | Val Acc: 0.74731 loss: 0.80070\n",
            "saving model with acc 0.74731\n"
          ]
        },
        {
          "output_type": "stream",
          "name": "stderr",
          "text": [
            "100%|██████████| 1655/1655 [00:34<00:00, 48.01it/s]\n",
            "100%|██████████| 413/413 [00:05<00:00, 82.10it/s]\n"
          ]
        },
        {
          "output_type": "stream",
          "name": "stdout",
          "text": [
            "[029/100] Train Acc: 0.75472 Loss: 0.75258 | Val Acc: 0.74689 loss: 0.80108\n"
          ]
        },
        {
          "output_type": "stream",
          "name": "stderr",
          "text": [
            "100%|██████████| 1655/1655 [00:34<00:00, 47.70it/s]\n",
            "100%|██████████| 413/413 [00:04<00:00, 88.46it/s]\n"
          ]
        },
        {
          "output_type": "stream",
          "name": "stdout",
          "text": [
            "[030/100] Train Acc: 0.75611 Loss: 0.74875 | Val Acc: 0.74786 loss: 0.79863\n",
            "saving model with acc 0.74786\n"
          ]
        },
        {
          "output_type": "stream",
          "name": "stderr",
          "text": [
            "100%|██████████| 1655/1655 [00:35<00:00, 46.21it/s]\n",
            "100%|██████████| 413/413 [00:06<00:00, 64.45it/s]\n"
          ]
        },
        {
          "output_type": "stream",
          "name": "stdout",
          "text": [
            "[031/100] Train Acc: 0.75656 Loss: 0.74625 | Val Acc: 0.74708 loss: 0.80038\n"
          ]
        },
        {
          "output_type": "stream",
          "name": "stderr",
          "text": [
            "100%|██████████| 1655/1655 [00:34<00:00, 47.48it/s]\n",
            "100%|██████████| 413/413 [00:04<00:00, 85.18it/s]\n"
          ]
        },
        {
          "output_type": "stream",
          "name": "stdout",
          "text": [
            "[032/100] Train Acc: 0.75771 Loss: 0.74306 | Val Acc: 0.74700 loss: 0.80156\n"
          ]
        },
        {
          "output_type": "stream",
          "name": "stderr",
          "text": [
            "100%|██████████| 1655/1655 [00:34<00:00, 47.76it/s]\n",
            "100%|██████████| 413/413 [00:05<00:00, 82.26it/s]\n"
          ]
        },
        {
          "output_type": "stream",
          "name": "stdout",
          "text": [
            "[033/100] Train Acc: 0.75797 Loss: 0.74133 | Val Acc: 0.74756 loss: 0.80116\n"
          ]
        },
        {
          "output_type": "stream",
          "name": "stderr",
          "text": [
            "100%|██████████| 1655/1655 [00:34<00:00, 48.06it/s]\n",
            "100%|██████████| 413/413 [00:05<00:00, 71.01it/s]\n"
          ]
        },
        {
          "output_type": "stream",
          "name": "stdout",
          "text": [
            "[034/100] Train Acc: 0.75894 Loss: 0.73810 | Val Acc: 0.74735 loss: 0.80079\n"
          ]
        },
        {
          "output_type": "stream",
          "name": "stderr",
          "text": [
            "100%|██████████| 1655/1655 [00:34<00:00, 48.18it/s]\n",
            "100%|██████████| 413/413 [00:04<00:00, 87.84it/s]\n"
          ]
        },
        {
          "output_type": "stream",
          "name": "stdout",
          "text": [
            "[035/100] Train Acc: 0.75999 Loss: 0.73535 | Val Acc: 0.74761 loss: 0.79945\n"
          ]
        },
        {
          "output_type": "stream",
          "name": "stderr",
          "text": [
            "100%|██████████| 1655/1655 [00:34<00:00, 47.90it/s]\n",
            "100%|██████████| 413/413 [00:04<00:00, 86.21it/s]\n"
          ]
        },
        {
          "output_type": "stream",
          "name": "stdout",
          "text": [
            "[036/100] Train Acc: 0.76036 Loss: 0.73270 | Val Acc: 0.74730 loss: 0.80036\n"
          ]
        },
        {
          "output_type": "stream",
          "name": "stderr",
          "text": [
            "100%|██████████| 1655/1655 [00:34<00:00, 47.85it/s]\n",
            "100%|██████████| 413/413 [00:05<00:00, 74.12it/s]\n"
          ]
        },
        {
          "output_type": "stream",
          "name": "stdout",
          "text": [
            "[037/100] Train Acc: 0.76103 Loss: 0.73118 | Val Acc: 0.74732 loss: 0.80234\n"
          ]
        },
        {
          "output_type": "stream",
          "name": "stderr",
          "text": [
            "100%|██████████| 1655/1655 [00:34<00:00, 47.91it/s]\n",
            "100%|██████████| 413/413 [00:05<00:00, 82.07it/s]\n"
          ]
        },
        {
          "output_type": "stream",
          "name": "stdout",
          "text": [
            "[038/100] Train Acc: 0.76145 Loss: 0.72919 | Val Acc: 0.74791 loss: 0.80290\n",
            "saving model with acc 0.74791\n"
          ]
        },
        {
          "output_type": "stream",
          "name": "stderr",
          "text": [
            "100%|██████████| 1655/1655 [00:34<00:00, 47.93it/s]\n",
            "100%|██████████| 413/413 [00:04<00:00, 86.02it/s]\n"
          ]
        },
        {
          "output_type": "stream",
          "name": "stdout",
          "text": [
            "[039/100] Train Acc: 0.76249 Loss: 0.72665 | Val Acc: 0.74881 loss: 0.79876\n",
            "saving model with acc 0.74881\n"
          ]
        },
        {
          "output_type": "stream",
          "name": "stderr",
          "text": [
            "100%|██████████| 1655/1655 [00:34<00:00, 47.98it/s]\n",
            "100%|██████████| 413/413 [00:05<00:00, 72.92it/s]\n"
          ]
        },
        {
          "output_type": "stream",
          "name": "stdout",
          "text": [
            "[040/100] Train Acc: 0.76265 Loss: 0.72551 | Val Acc: 0.74812 loss: 0.79988\n"
          ]
        },
        {
          "output_type": "stream",
          "name": "stderr",
          "text": [
            "100%|██████████| 1655/1655 [00:34<00:00, 47.80it/s]\n",
            "100%|██████████| 413/413 [00:04<00:00, 85.45it/s]\n"
          ]
        },
        {
          "output_type": "stream",
          "name": "stdout",
          "text": [
            "[041/100] Train Acc: 0.76320 Loss: 0.72271 | Val Acc: 0.74881 loss: 0.79580\n"
          ]
        },
        {
          "output_type": "stream",
          "name": "stderr",
          "text": [
            "100%|██████████| 1655/1655 [00:34<00:00, 47.72it/s]\n",
            "100%|██████████| 413/413 [00:04<00:00, 87.63it/s]\n"
          ]
        },
        {
          "output_type": "stream",
          "name": "stdout",
          "text": [
            "[042/100] Train Acc: 0.76366 Loss: 0.72171 | Val Acc: 0.74796 loss: 0.80076\n"
          ]
        },
        {
          "output_type": "stream",
          "name": "stderr",
          "text": [
            "100%|██████████| 1655/1655 [00:34<00:00, 47.84it/s]\n",
            "100%|██████████| 413/413 [00:05<00:00, 75.85it/s]\n"
          ]
        },
        {
          "output_type": "stream",
          "name": "stdout",
          "text": [
            "[043/100] Train Acc: 0.76442 Loss: 0.71940 | Val Acc: 0.74842 loss: 0.79964\n"
          ]
        },
        {
          "output_type": "stream",
          "name": "stderr",
          "text": [
            "100%|██████████| 1655/1655 [00:34<00:00, 48.05it/s]\n",
            "100%|██████████| 413/413 [00:05<00:00, 76.57it/s]\n"
          ]
        },
        {
          "output_type": "stream",
          "name": "stdout",
          "text": [
            "[044/100] Train Acc: 0.76445 Loss: 0.71843 | Val Acc: 0.74865 loss: 0.79959\n"
          ]
        },
        {
          "output_type": "stream",
          "name": "stderr",
          "text": [
            "100%|██████████| 1655/1655 [00:34<00:00, 47.86it/s]\n",
            "100%|██████████| 413/413 [00:04<00:00, 82.82it/s]\n"
          ]
        },
        {
          "output_type": "stream",
          "name": "stdout",
          "text": [
            "[045/100] Train Acc: 0.76539 Loss: 0.71662 | Val Acc: 0.74836 loss: 0.80024\n"
          ]
        },
        {
          "output_type": "stream",
          "name": "stderr",
          "text": [
            "100%|██████████| 1655/1655 [00:34<00:00, 48.01it/s]\n",
            "100%|██████████| 413/413 [00:05<00:00, 72.74it/s]\n"
          ]
        },
        {
          "output_type": "stream",
          "name": "stdout",
          "text": [
            "[046/100] Train Acc: 0.76543 Loss: 0.71475 | Val Acc: 0.74851 loss: 0.80058\n"
          ]
        },
        {
          "output_type": "stream",
          "name": "stderr",
          "text": [
            "100%|██████████| 1655/1655 [00:34<00:00, 48.24it/s]\n",
            "100%|██████████| 413/413 [00:05<00:00, 80.43it/s]\n"
          ]
        },
        {
          "output_type": "stream",
          "name": "stdout",
          "text": [
            "[047/100] Train Acc: 0.76581 Loss: 0.71400 | Val Acc: 0.74969 loss: 0.79663\n",
            "saving model with acc 0.74969\n"
          ]
        },
        {
          "output_type": "stream",
          "name": "stderr",
          "text": [
            "100%|██████████| 1655/1655 [00:34<00:00, 47.71it/s]\n",
            "100%|██████████| 413/413 [00:04<00:00, 88.13it/s]\n"
          ]
        },
        {
          "output_type": "stream",
          "name": "stdout",
          "text": [
            "[048/100] Train Acc: 0.76650 Loss: 0.71246 | Val Acc: 0.74912 loss: 0.79898\n"
          ]
        },
        {
          "output_type": "stream",
          "name": "stderr",
          "text": [
            "100%|██████████| 1655/1655 [00:34<00:00, 48.10it/s]\n",
            "100%|██████████| 413/413 [00:05<00:00, 79.93it/s]\n"
          ]
        },
        {
          "output_type": "stream",
          "name": "stdout",
          "text": [
            "[049/100] Train Acc: 0.76663 Loss: 0.71086 | Val Acc: 0.74842 loss: 0.80087\n"
          ]
        },
        {
          "output_type": "stream",
          "name": "stderr",
          "text": [
            "100%|██████████| 1655/1655 [00:34<00:00, 48.26it/s]\n",
            "100%|██████████| 413/413 [00:05<00:00, 70.95it/s]\n"
          ]
        },
        {
          "output_type": "stream",
          "name": "stdout",
          "text": [
            "[050/100] Train Acc: 0.76718 Loss: 0.70965 | Val Acc: 0.74884 loss: 0.80243\n"
          ]
        },
        {
          "output_type": "stream",
          "name": "stderr",
          "text": [
            "100%|██████████| 1655/1655 [00:34<00:00, 48.15it/s]\n",
            "100%|██████████| 413/413 [00:04<00:00, 86.96it/s]\n"
          ]
        },
        {
          "output_type": "stream",
          "name": "stdout",
          "text": [
            "[051/100] Train Acc: 0.76736 Loss: 0.70765 | Val Acc: 0.74928 loss: 0.80111\n"
          ]
        },
        {
          "output_type": "stream",
          "name": "stderr",
          "text": [
            "100%|██████████| 1655/1655 [00:34<00:00, 48.35it/s]\n",
            "100%|██████████| 413/413 [00:05<00:00, 79.70it/s]\n"
          ]
        },
        {
          "output_type": "stream",
          "name": "stdout",
          "text": [
            "[052/100] Train Acc: 0.76768 Loss: 0.70672 | Val Acc: 0.74952 loss: 0.80038\n"
          ]
        },
        {
          "output_type": "stream",
          "name": "stderr",
          "text": [
            "100%|██████████| 1655/1655 [00:34<00:00, 48.28it/s]\n",
            "100%|██████████| 413/413 [00:05<00:00, 75.82it/s]\n"
          ]
        },
        {
          "output_type": "stream",
          "name": "stdout",
          "text": [
            "[053/100] Train Acc: 0.76807 Loss: 0.70634 | Val Acc: 0.74871 loss: 0.80021\n"
          ]
        },
        {
          "output_type": "stream",
          "name": "stderr",
          "text": [
            "100%|██████████| 1655/1655 [00:34<00:00, 48.36it/s]\n",
            "100%|██████████| 413/413 [00:04<00:00, 88.14it/s]\n"
          ]
        },
        {
          "output_type": "stream",
          "name": "stdout",
          "text": [
            "[054/100] Train Acc: 0.76849 Loss: 0.70522 | Val Acc: 0.75007 loss: 0.80041\n",
            "saving model with acc 0.75007\n"
          ]
        },
        {
          "output_type": "stream",
          "name": "stderr",
          "text": [
            "100%|██████████| 1655/1655 [00:34<00:00, 48.18it/s]\n",
            "100%|██████████| 413/413 [00:04<00:00, 85.33it/s]\n"
          ]
        },
        {
          "output_type": "stream",
          "name": "stdout",
          "text": [
            "[055/100] Train Acc: 0.76863 Loss: 0.70419 | Val Acc: 0.74951 loss: 0.80006\n"
          ]
        },
        {
          "output_type": "stream",
          "name": "stderr",
          "text": [
            "100%|██████████| 1655/1655 [00:34<00:00, 48.07it/s]\n",
            "100%|██████████| 413/413 [00:05<00:00, 72.41it/s]\n"
          ]
        },
        {
          "output_type": "stream",
          "name": "stdout",
          "text": [
            "[056/100] Train Acc: 0.76913 Loss: 0.70312 | Val Acc: 0.74944 loss: 0.79869\n"
          ]
        },
        {
          "output_type": "stream",
          "name": "stderr",
          "text": [
            "100%|██████████| 1655/1655 [00:34<00:00, 48.22it/s]\n",
            "100%|██████████| 413/413 [00:05<00:00, 81.77it/s]\n"
          ]
        },
        {
          "output_type": "stream",
          "name": "stdout",
          "text": [
            "[057/100] Train Acc: 0.76946 Loss: 0.70199 | Val Acc: 0.74971 loss: 0.79956\n"
          ]
        },
        {
          "output_type": "stream",
          "name": "stderr",
          "text": [
            "100%|██████████| 1655/1655 [00:34<00:00, 48.13it/s]\n",
            "100%|██████████| 413/413 [00:04<00:00, 83.84it/s]\n"
          ]
        },
        {
          "output_type": "stream",
          "name": "stdout",
          "text": [
            "[058/100] Train Acc: 0.76957 Loss: 0.70177 | Val Acc: 0.75015 loss: 0.79784\n",
            "saving model with acc 0.75015\n"
          ]
        },
        {
          "output_type": "stream",
          "name": "stderr",
          "text": [
            "100%|██████████| 1655/1655 [00:34<00:00, 48.05it/s]\n",
            "100%|██████████| 413/413 [00:05<00:00, 79.83it/s]\n"
          ]
        },
        {
          "output_type": "stream",
          "name": "stdout",
          "text": [
            "[059/100] Train Acc: 0.76995 Loss: 0.69992 | Val Acc: 0.74922 loss: 0.80150\n"
          ]
        },
        {
          "output_type": "stream",
          "name": "stderr",
          "text": [
            "100%|██████████| 1655/1655 [00:34<00:00, 48.33it/s]\n",
            "100%|██████████| 413/413 [00:05<00:00, 74.58it/s]\n"
          ]
        },
        {
          "output_type": "stream",
          "name": "stdout",
          "text": [
            "[060/100] Train Acc: 0.77036 Loss: 0.69871 | Val Acc: 0.74954 loss: 0.80116\n"
          ]
        },
        {
          "output_type": "stream",
          "name": "stderr",
          "text": [
            "100%|██████████| 1655/1655 [00:34<00:00, 47.97it/s]\n",
            "100%|██████████| 413/413 [00:04<00:00, 83.69it/s]\n"
          ]
        },
        {
          "output_type": "stream",
          "name": "stdout",
          "text": [
            "[061/100] Train Acc: 0.77038 Loss: 0.69855 | Val Acc: 0.75009 loss: 0.80365\n"
          ]
        },
        {
          "output_type": "stream",
          "name": "stderr",
          "text": [
            "100%|██████████| 1655/1655 [00:34<00:00, 47.93it/s]\n",
            "100%|██████████| 413/413 [00:05<00:00, 75.35it/s]\n"
          ]
        },
        {
          "output_type": "stream",
          "name": "stdout",
          "text": [
            "[062/100] Train Acc: 0.77073 Loss: 0.69727 | Val Acc: 0.75025 loss: 0.79911\n",
            "saving model with acc 0.75025\n"
          ]
        },
        {
          "output_type": "stream",
          "name": "stderr",
          "text": [
            "100%|██████████| 1655/1655 [00:34<00:00, 48.42it/s]\n",
            "100%|██████████| 413/413 [00:05<00:00, 76.47it/s]\n"
          ]
        },
        {
          "output_type": "stream",
          "name": "stdout",
          "text": [
            "[063/100] Train Acc: 0.77128 Loss: 0.69540 | Val Acc: 0.74926 loss: 0.80426\n"
          ]
        },
        {
          "output_type": "stream",
          "name": "stderr",
          "text": [
            "100%|██████████| 1655/1655 [00:34<00:00, 48.62it/s]\n",
            "100%|██████████| 413/413 [00:04<00:00, 85.18it/s]\n"
          ]
        },
        {
          "output_type": "stream",
          "name": "stdout",
          "text": [
            "[064/100] Train Acc: 0.77139 Loss: 0.69525 | Val Acc: 0.74977 loss: 0.80142\n"
          ]
        },
        {
          "output_type": "stream",
          "name": "stderr",
          "text": [
            "100%|██████████| 1655/1655 [00:34<00:00, 48.35it/s]\n",
            "100%|██████████| 413/413 [00:04<00:00, 83.26it/s]\n"
          ]
        },
        {
          "output_type": "stream",
          "name": "stdout",
          "text": [
            "[065/100] Train Acc: 0.77085 Loss: 0.69511 | Val Acc: 0.74981 loss: 0.80267\n"
          ]
        },
        {
          "output_type": "stream",
          "name": "stderr",
          "text": [
            "100%|██████████| 1655/1655 [00:34<00:00, 48.03it/s]\n",
            "100%|██████████| 413/413 [00:05<00:00, 74.91it/s]\n"
          ]
        },
        {
          "output_type": "stream",
          "name": "stdout",
          "text": [
            "[066/100] Train Acc: 0.77147 Loss: 0.69401 | Val Acc: 0.75001 loss: 0.80211\n"
          ]
        },
        {
          "output_type": "stream",
          "name": "stderr",
          "text": [
            "100%|██████████| 1655/1655 [00:34<00:00, 48.22it/s]\n",
            "100%|██████████| 413/413 [00:05<00:00, 81.49it/s]\n"
          ]
        },
        {
          "output_type": "stream",
          "name": "stdout",
          "text": [
            "[067/100] Train Acc: 0.77185 Loss: 0.69322 | Val Acc: 0.75062 loss: 0.79928\n",
            "saving model with acc 0.75062\n"
          ]
        },
        {
          "output_type": "stream",
          "name": "stderr",
          "text": [
            "100%|██████████| 1655/1655 [00:34<00:00, 47.96it/s]\n",
            "100%|██████████| 413/413 [00:04<00:00, 85.55it/s]\n"
          ]
        },
        {
          "output_type": "stream",
          "name": "stdout",
          "text": [
            "[068/100] Train Acc: 0.77226 Loss: 0.69259 | Val Acc: 0.74981 loss: 0.80132\n"
          ]
        },
        {
          "output_type": "stream",
          "name": "stderr",
          "text": [
            "100%|██████████| 1655/1655 [00:34<00:00, 47.63it/s]\n",
            "100%|██████████| 413/413 [00:05<00:00, 76.88it/s]\n"
          ]
        },
        {
          "output_type": "stream",
          "name": "stdout",
          "text": [
            "[069/100] Train Acc: 0.77166 Loss: 0.69236 | Val Acc: 0.75008 loss: 0.80391\n"
          ]
        },
        {
          "output_type": "stream",
          "name": "stderr",
          "text": [
            "100%|██████████| 1655/1655 [00:34<00:00, 48.10it/s]\n",
            "100%|██████████| 413/413 [00:05<00:00, 79.21it/s]\n"
          ]
        },
        {
          "output_type": "stream",
          "name": "stdout",
          "text": [
            "[070/100] Train Acc: 0.77248 Loss: 0.69068 | Val Acc: 0.74997 loss: 0.80108\n"
          ]
        },
        {
          "output_type": "stream",
          "name": "stderr",
          "text": [
            "100%|██████████| 1655/1655 [00:34<00:00, 47.82it/s]\n",
            "100%|██████████| 413/413 [00:04<00:00, 82.77it/s]\n"
          ]
        },
        {
          "output_type": "stream",
          "name": "stdout",
          "text": [
            "[071/100] Train Acc: 0.77237 Loss: 0.69063 | Val Acc: 0.75079 loss: 0.80120\n",
            "saving model with acc 0.75079\n"
          ]
        },
        {
          "output_type": "stream",
          "name": "stderr",
          "text": [
            "100%|██████████| 1655/1655 [00:34<00:00, 48.00it/s]\n",
            "100%|██████████| 413/413 [00:05<00:00, 75.79it/s]\n"
          ]
        },
        {
          "output_type": "stream",
          "name": "stdout",
          "text": [
            "[072/100] Train Acc: 0.77300 Loss: 0.68978 | Val Acc: 0.75040 loss: 0.79985\n"
          ]
        },
        {
          "output_type": "stream",
          "name": "stderr",
          "text": [
            "100%|██████████| 1655/1655 [00:34<00:00, 48.46it/s]\n",
            "100%|██████████| 413/413 [00:05<00:00, 74.67it/s]\n"
          ]
        },
        {
          "output_type": "stream",
          "name": "stdout",
          "text": [
            "[073/100] Train Acc: 0.77267 Loss: 0.68926 | Val Acc: 0.75040 loss: 0.80259\n"
          ]
        },
        {
          "output_type": "stream",
          "name": "stderr",
          "text": [
            "100%|██████████| 1655/1655 [00:34<00:00, 47.90it/s]\n",
            "100%|██████████| 413/413 [00:04<00:00, 88.60it/s]\n"
          ]
        },
        {
          "output_type": "stream",
          "name": "stdout",
          "text": [
            "[074/100] Train Acc: 0.77322 Loss: 0.68810 | Val Acc: 0.74970 loss: 0.80168\n"
          ]
        },
        {
          "output_type": "stream",
          "name": "stderr",
          "text": [
            "100%|██████████| 1655/1655 [00:34<00:00, 47.97it/s]\n",
            "100%|██████████| 413/413 [00:04<00:00, 82.91it/s]\n"
          ]
        },
        {
          "output_type": "stream",
          "name": "stdout",
          "text": [
            "[075/100] Train Acc: 0.77315 Loss: 0.68787 | Val Acc: 0.75117 loss: 0.80351\n",
            "saving model with acc 0.75117\n"
          ]
        },
        {
          "output_type": "stream",
          "name": "stderr",
          "text": [
            "100%|██████████| 1655/1655 [00:34<00:00, 48.34it/s]\n",
            "100%|██████████| 413/413 [00:05<00:00, 73.69it/s]\n"
          ]
        },
        {
          "output_type": "stream",
          "name": "stdout",
          "text": [
            "[076/100] Train Acc: 0.77359 Loss: 0.68720 | Val Acc: 0.74976 loss: 0.80005\n"
          ]
        },
        {
          "output_type": "stream",
          "name": "stderr",
          "text": [
            "100%|██████████| 1655/1655 [00:34<00:00, 47.91it/s]\n",
            "100%|██████████| 413/413 [00:04<00:00, 83.23it/s]\n"
          ]
        },
        {
          "output_type": "stream",
          "name": "stdout",
          "text": [
            "[077/100] Train Acc: 0.77329 Loss: 0.68695 | Val Acc: 0.75025 loss: 0.80339\n"
          ]
        },
        {
          "output_type": "stream",
          "name": "stderr",
          "text": [
            "100%|██████████| 1655/1655 [00:34<00:00, 48.28it/s]\n",
            "100%|██████████| 413/413 [00:04<00:00, 86.63it/s]\n"
          ]
        },
        {
          "output_type": "stream",
          "name": "stdout",
          "text": [
            "[078/100] Train Acc: 0.77411 Loss: 0.68612 | Val Acc: 0.75035 loss: 0.80274\n"
          ]
        },
        {
          "output_type": "stream",
          "name": "stderr",
          "text": [
            "100%|██████████| 1655/1655 [00:34<00:00, 48.23it/s]\n",
            "100%|██████████| 413/413 [00:05<00:00, 71.44it/s]\n"
          ]
        },
        {
          "output_type": "stream",
          "name": "stdout",
          "text": [
            "[079/100] Train Acc: 0.77393 Loss: 0.68515 | Val Acc: 0.75006 loss: 0.80246\n"
          ]
        },
        {
          "output_type": "stream",
          "name": "stderr",
          "text": [
            "100%|██████████| 1655/1655 [00:34<00:00, 48.04it/s]\n",
            "100%|██████████| 413/413 [00:04<00:00, 87.02it/s]\n"
          ]
        },
        {
          "output_type": "stream",
          "name": "stdout",
          "text": [
            "[080/100] Train Acc: 0.77393 Loss: 0.68468 | Val Acc: 0.75089 loss: 0.80023\n"
          ]
        },
        {
          "output_type": "stream",
          "name": "stderr",
          "text": [
            "100%|██████████| 1655/1655 [00:34<00:00, 48.02it/s]\n",
            "100%|██████████| 413/413 [00:04<00:00, 88.50it/s]\n"
          ]
        },
        {
          "output_type": "stream",
          "name": "stdout",
          "text": [
            "[081/100] Train Acc: 0.77444 Loss: 0.68383 | Val Acc: 0.75105 loss: 0.79903\n"
          ]
        },
        {
          "output_type": "stream",
          "name": "stderr",
          "text": [
            "100%|██████████| 1655/1655 [00:34<00:00, 47.98it/s]\n",
            "100%|██████████| 413/413 [00:05<00:00, 74.78it/s]\n"
          ]
        },
        {
          "output_type": "stream",
          "name": "stdout",
          "text": [
            "[082/100] Train Acc: 0.77431 Loss: 0.68451 | Val Acc: 0.75012 loss: 0.80155\n"
          ]
        },
        {
          "output_type": "stream",
          "name": "stderr",
          "text": [
            "100%|██████████| 1655/1655 [00:34<00:00, 47.73it/s]\n",
            "100%|██████████| 413/413 [00:05<00:00, 80.73it/s]\n"
          ]
        },
        {
          "output_type": "stream",
          "name": "stdout",
          "text": [
            "[083/100] Train Acc: 0.77459 Loss: 0.68329 | Val Acc: 0.75098 loss: 0.79950\n"
          ]
        },
        {
          "output_type": "stream",
          "name": "stderr",
          "text": [
            "100%|██████████| 1655/1655 [00:34<00:00, 47.91it/s]\n",
            "100%|██████████| 413/413 [00:04<00:00, 83.37it/s]\n"
          ]
        },
        {
          "output_type": "stream",
          "name": "stdout",
          "text": [
            "[084/100] Train Acc: 0.77463 Loss: 0.68239 | Val Acc: 0.75113 loss: 0.80084\n"
          ]
        },
        {
          "output_type": "stream",
          "name": "stderr",
          "text": [
            "100%|██████████| 1655/1655 [00:34<00:00, 47.93it/s]\n",
            "100%|██████████| 413/413 [00:05<00:00, 79.27it/s]\n"
          ]
        },
        {
          "output_type": "stream",
          "name": "stdout",
          "text": [
            "[085/100] Train Acc: 0.77484 Loss: 0.68266 | Val Acc: 0.75091 loss: 0.80223\n"
          ]
        },
        {
          "output_type": "stream",
          "name": "stderr",
          "text": [
            "100%|██████████| 1655/1655 [00:34<00:00, 48.08it/s]\n",
            "100%|██████████| 413/413 [00:04<00:00, 83.39it/s]\n"
          ]
        },
        {
          "output_type": "stream",
          "name": "stdout",
          "text": [
            "[086/100] Train Acc: 0.77522 Loss: 0.68108 | Val Acc: 0.75114 loss: 0.80091\n"
          ]
        },
        {
          "output_type": "stream",
          "name": "stderr",
          "text": [
            "100%|██████████| 1655/1655 [00:34<00:00, 47.85it/s]\n",
            "100%|██████████| 413/413 [00:04<00:00, 87.35it/s]\n"
          ]
        },
        {
          "output_type": "stream",
          "name": "stdout",
          "text": [
            "[087/100] Train Acc: 0.77517 Loss: 0.68073 | Val Acc: 0.75048 loss: 0.80074\n"
          ]
        },
        {
          "output_type": "stream",
          "name": "stderr",
          "text": [
            "100%|██████████| 1655/1655 [00:34<00:00, 47.92it/s]\n",
            "100%|██████████| 413/413 [00:05<00:00, 78.89it/s]\n"
          ]
        },
        {
          "output_type": "stream",
          "name": "stdout",
          "text": [
            "[088/100] Train Acc: 0.77535 Loss: 0.68009 | Val Acc: 0.74973 loss: 0.80395\n"
          ]
        },
        {
          "output_type": "stream",
          "name": "stderr",
          "text": [
            "100%|██████████| 1655/1655 [00:34<00:00, 48.28it/s]\n",
            "100%|██████████| 413/413 [00:05<00:00, 70.57it/s]\n"
          ]
        },
        {
          "output_type": "stream",
          "name": "stdout",
          "text": [
            "[089/100] Train Acc: 0.77561 Loss: 0.67976 | Val Acc: 0.75059 loss: 0.80205\n"
          ]
        },
        {
          "output_type": "stream",
          "name": "stderr",
          "text": [
            "100%|██████████| 1655/1655 [00:34<00:00, 47.74it/s]\n",
            "100%|██████████| 413/413 [00:04<00:00, 84.20it/s]\n"
          ]
        },
        {
          "output_type": "stream",
          "name": "stdout",
          "text": [
            "[090/100] Train Acc: 0.77559 Loss: 0.67958 | Val Acc: 0.75026 loss: 0.79928\n"
          ]
        },
        {
          "output_type": "stream",
          "name": "stderr",
          "text": [
            "100%|██████████| 1655/1655 [00:34<00:00, 47.66it/s]\n",
            "100%|██████████| 413/413 [00:05<00:00, 75.82it/s]\n"
          ]
        },
        {
          "output_type": "stream",
          "name": "stdout",
          "text": [
            "[091/100] Train Acc: 0.77585 Loss: 0.67897 | Val Acc: 0.75080 loss: 0.80263\n"
          ]
        },
        {
          "output_type": "stream",
          "name": "stderr",
          "text": [
            "100%|██████████| 1655/1655 [00:34<00:00, 47.97it/s]\n",
            "100%|██████████| 413/413 [00:05<00:00, 74.03it/s]\n"
          ]
        },
        {
          "output_type": "stream",
          "name": "stdout",
          "text": [
            "[092/100] Train Acc: 0.77633 Loss: 0.67849 | Val Acc: 0.75002 loss: 0.80312\n"
          ]
        },
        {
          "output_type": "stream",
          "name": "stderr",
          "text": [
            "100%|██████████| 1655/1655 [00:34<00:00, 48.02it/s]\n",
            "100%|██████████| 413/413 [00:05<00:00, 81.38it/s]\n"
          ]
        },
        {
          "output_type": "stream",
          "name": "stdout",
          "text": [
            "[093/100] Train Acc: 0.77622 Loss: 0.67771 | Val Acc: 0.75124 loss: 0.80171\n",
            "saving model with acc 0.75124\n"
          ]
        },
        {
          "output_type": "stream",
          "name": "stderr",
          "text": [
            "100%|██████████| 1655/1655 [00:34<00:00, 47.91it/s]\n",
            "100%|██████████| 413/413 [00:04<00:00, 85.06it/s]\n"
          ]
        },
        {
          "output_type": "stream",
          "name": "stdout",
          "text": [
            "[094/100] Train Acc: 0.77578 Loss: 0.67843 | Val Acc: 0.75055 loss: 0.80169\n"
          ]
        },
        {
          "output_type": "stream",
          "name": "stderr",
          "text": [
            "100%|██████████| 1655/1655 [00:34<00:00, 47.70it/s]\n",
            "100%|██████████| 413/413 [00:05<00:00, 76.31it/s]\n"
          ]
        },
        {
          "output_type": "stream",
          "name": "stdout",
          "text": [
            "[095/100] Train Acc: 0.77639 Loss: 0.67731 | Val Acc: 0.75032 loss: 0.80187\n"
          ]
        },
        {
          "output_type": "stream",
          "name": "stderr",
          "text": [
            "100%|██████████| 1655/1655 [00:34<00:00, 47.86it/s]\n",
            "100%|██████████| 413/413 [00:04<00:00, 86.89it/s]\n"
          ]
        },
        {
          "output_type": "stream",
          "name": "stdout",
          "text": [
            "[096/100] Train Acc: 0.77604 Loss: 0.67725 | Val Acc: 0.75163 loss: 0.80145\n",
            "saving model with acc 0.75163\n"
          ]
        },
        {
          "output_type": "stream",
          "name": "stderr",
          "text": [
            "100%|██████████| 1655/1655 [00:34<00:00, 47.78it/s]\n",
            "100%|██████████| 413/413 [00:04<00:00, 84.18it/s]\n"
          ]
        },
        {
          "output_type": "stream",
          "name": "stdout",
          "text": [
            "[097/100] Train Acc: 0.77652 Loss: 0.67680 | Val Acc: 0.75121 loss: 0.80248\n"
          ]
        },
        {
          "output_type": "stream",
          "name": "stderr",
          "text": [
            "100%|██████████| 1655/1655 [00:34<00:00, 48.09it/s]\n",
            "100%|██████████| 413/413 [00:05<00:00, 72.25it/s]\n"
          ]
        },
        {
          "output_type": "stream",
          "name": "stdout",
          "text": [
            "[098/100] Train Acc: 0.77687 Loss: 0.67563 | Val Acc: 0.75107 loss: 0.80143\n"
          ]
        },
        {
          "output_type": "stream",
          "name": "stderr",
          "text": [
            "100%|██████████| 1655/1655 [00:34<00:00, 47.86it/s]\n",
            "100%|██████████| 413/413 [00:04<00:00, 84.74it/s]\n"
          ]
        },
        {
          "output_type": "stream",
          "name": "stdout",
          "text": [
            "[099/100] Train Acc: 0.77692 Loss: 0.67608 | Val Acc: 0.75133 loss: 0.80065\n"
          ]
        },
        {
          "output_type": "stream",
          "name": "stderr",
          "text": [
            "100%|██████████| 1655/1655 [00:34<00:00, 48.05it/s]\n",
            "100%|██████████| 413/413 [00:05<00:00, 80.69it/s]"
          ]
        },
        {
          "output_type": "stream",
          "name": "stdout",
          "text": [
            "[100/100] Train Acc: 0.77655 Loss: 0.67609 | Val Acc: 0.75092 loss: 0.80059\n"
          ]
        },
        {
          "output_type": "stream",
          "name": "stderr",
          "text": [
            "\n"
          ]
        }
      ],
      "source": [
        "# create model, define a loss function, and optimizer\n",
        "model = Classifier(input_dim=input_dim, hidden_layers=hidden_layers, hidden_dim=hidden_dim).to(device)\n",
        "criterion = nn.CrossEntropyLoss()\n",
        "optimizer = torch.optim.Adam(model.parameters(), lr=learning_rate, weight_decay=weight_decay)\n",
        "scheduler = torch.optim.lr_scheduler.CosineAnnealingWarmRestarts(optimizer,\n",
        "                                        T_0=5, T_mult=2, eta_min=learning_rate)\n",
        "\n",
        "best_acc = 0.0\n",
        "for epoch in range(num_epoch):\n",
        "    train_acc = 0.0\n",
        "    train_loss = 0.0\n",
        "    val_acc = 0.0\n",
        "    val_loss = 0.0\n",
        "\n",
        "    # training\n",
        "    model.train() # set the model to training mode\n",
        "    for i, batch in enumerate(tqdm(train_loader)):\n",
        "        features, labels = batch\n",
        "        features = features.to(device)\n",
        "        labels = labels.to(device)\n",
        "\n",
        "        optimizer.zero_grad()\n",
        "        outputs = model(features)\n",
        "\n",
        "        loss = criterion(outputs, labels)\n",
        "        loss.backward()\n",
        "        optimizer.step()\n",
        "\n",
        "        _, train_pred = torch.max(outputs, 1) # get the index of the class with the highest probability\n",
        "        train_acc += (train_pred.detach() == labels.detach()).sum().item()\n",
        "        train_loss += loss.item()\n",
        "    scheduler.step()\n",
        "    # validation\n",
        "    model.eval() # set the model to evaluation mode\n",
        "    with torch.no_grad():\n",
        "        for i, batch in enumerate(tqdm(val_loader)):\n",
        "            features, labels = batch\n",
        "            features = features.to(device)\n",
        "            labels = labels.to(device)\n",
        "            outputs = model(features)\n",
        "\n",
        "            loss = criterion(outputs, labels)\n",
        "\n",
        "            _, val_pred = torch.max(outputs, 1)\n",
        "            val_acc += (val_pred.cpu() == labels.cpu()).sum().item() # get the index of the class with the highest probability\n",
        "            val_loss += loss.item()\n",
        "\n",
        "    print(f'[{epoch+1:03d}/{num_epoch:03d}] Train Acc: {train_acc/len(train_set):3.5f} Loss: {train_loss/len(train_loader):3.5f} | Val Acc: {val_acc/len(val_set):3.5f} loss: {val_loss/len(val_loader):3.5f}')\n",
        "\n",
        "    # if the model improves, save a checkpoint at this epoch\n",
        "    if val_acc > best_acc:\n",
        "        best_acc = val_acc\n",
        "        torch.save(model.state_dict(), model_path)\n",
        "        print(f'saving model with acc {best_acc/len(val_set):.5f}')\n"
      ]
    },
    {
      "cell_type": "code",
      "execution_count": 9,
      "metadata": {
        "id": "ab33MxosWLmG",
        "colab": {
          "base_uri": "https://localhost:8080/"
        },
        "outputId": "133d26fc-7c1b-4c63-d2f1-8efc3b742df0"
      },
      "outputs": [
        {
          "output_type": "execute_result",
          "data": {
            "text/plain": [
              "0"
            ]
          },
          "metadata": {},
          "execution_count": 9
        }
      ],
      "source": [
        "del train_set, val_set\n",
        "del train_loader, val_loader\n",
        "gc.collect()"
      ]
    },
    {
      "cell_type": "markdown",
      "metadata": {
        "id": "1Hi7jTn3PX-m"
      },
      "source": [
        "# Testing\n",
        "Create a testing dataset, and load model from the saved checkpoint."
      ]
    },
    {
      "cell_type": "code",
      "execution_count": 10,
      "metadata": {
        "id": "VOG1Ou0PGrhc",
        "colab": {
          "base_uri": "https://localhost:8080/"
        },
        "outputId": "e57ee762-6c93-4700-d7f2-f564d559671b"
      },
      "outputs": [
        {
          "output_type": "stream",
          "name": "stdout",
          "text": [
            "[Dataset] - # phone classes: 41, number of utterances for test: 857\n"
          ]
        },
        {
          "output_type": "stream",
          "name": "stderr",
          "text": [
            "857it [00:03, 271.41it/s]"
          ]
        },
        {
          "output_type": "stream",
          "name": "stdout",
          "text": [
            "[INFO] test set\n",
            "torch.Size([527364, 897])\n"
          ]
        },
        {
          "output_type": "stream",
          "name": "stderr",
          "text": [
            "\n"
          ]
        }
      ],
      "source": [
        "# load data\n",
        "test_X = preprocess_data(split='test', feat_dir='./libriphone/feat', phone_path='./libriphone', concat_nframes=concat_nframes)\n",
        "test_set = LibriDataset(test_X, None)\n",
        "test_loader = DataLoader(test_set, batch_size=batch_size, shuffle=False)"
      ]
    },
    {
      "cell_type": "code",
      "execution_count": 11,
      "metadata": {
        "id": "ay0Fu8Ovkdad",
        "colab": {
          "base_uri": "https://localhost:8080/"
        },
        "outputId": "47bba476-de4c-48cc-da6a-938fc57d793b"
      },
      "outputs": [
        {
          "output_type": "execute_result",
          "data": {
            "text/plain": [
              "<All keys matched successfully>"
            ]
          },
          "metadata": {},
          "execution_count": 11
        }
      ],
      "source": [
        "# load model\n",
        "model = Classifier(input_dim=input_dim, hidden_layers=hidden_layers, hidden_dim=hidden_dim).to(device)\n",
        "model.load_state_dict(torch.load(model_path))"
      ]
    },
    {
      "cell_type": "markdown",
      "metadata": {
        "id": "zp-DV1p4r7Nz"
      },
      "source": [
        "Make prediction."
      ]
    },
    {
      "cell_type": "code",
      "execution_count": 12,
      "metadata": {
        "id": "84HU5GGjPqR0",
        "colab": {
          "base_uri": "https://localhost:8080/"
        },
        "outputId": "587ffd57-8a12-4693-8d92-ca9aa93283bb"
      },
      "outputs": [
        {
          "output_type": "stream",
          "name": "stderr",
          "text": [
            "100%|██████████| 516/516 [00:03<00:00, 136.21it/s]\n"
          ]
        }
      ],
      "source": [
        "pred = np.array([], dtype=np.int32)\n",
        "\n",
        "model.eval()\n",
        "with torch.no_grad():\n",
        "    for i, batch in enumerate(tqdm(test_loader)):\n",
        "        features = batch\n",
        "        features = features.to(device)\n",
        "\n",
        "        outputs = model(features)\n",
        "\n",
        "        _, test_pred = torch.max(outputs, 1) # get the index of the class with the highest probability\n",
        "        pred = np.concatenate((pred, test_pred.cpu().numpy()), axis=0)\n"
      ]
    },
    {
      "cell_type": "markdown",
      "metadata": {
        "id": "wyZqy40Prz0v"
      },
      "source": [
        "Write prediction to a CSV file.\n",
        "\n",
        "After finish running this block, download the file `prediction.csv` from the files section on the left-hand side and submit it to Kaggle."
      ]
    },
    {
      "cell_type": "code",
      "execution_count": 13,
      "metadata": {
        "id": "GuljYSPHcZir"
      },
      "outputs": [],
      "source": [
        "with open('prediction.csv', 'w') as f:\n",
        "    f.write('Id,Class\\n')\n",
        "    for i, y in enumerate(pred):\n",
        "        f.write('{},{}\\n'.format(i, y))"
      ]
    }
  ],
  "metadata": {
    "accelerator": "GPU",
    "colab": {
      "provenance": []
    },
    "kernelspec": {
      "display_name": "Python 3",
      "name": "python3"
    }
  },
  "nbformat": 4,
  "nbformat_minor": 0
}